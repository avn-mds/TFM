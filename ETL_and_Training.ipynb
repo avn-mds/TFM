{
 "cells": [
  {
   "cell_type": "markdown",
   "metadata": {},
   "source": [
    "# Probando merging "
   ]
  },
  {
   "cell_type": "code",
   "execution_count": 1,
   "metadata": {},
   "outputs": [],
   "source": [
    "from pyspark.sql.functions import *\n",
    "from pyspark.sql.types import *\n",
    "from pyspark import StorageLevel, SparkConf\n",
    "import pandas as pd\n",
    "from datetime import datetime, timedelta\n",
    "import seaborn as sns\n",
    "import copy\n",
    "import numpy as np\n",
    "import matplotlib.pyplot as plt\n",
    "from pyspark.ml.feature import StandardScaler, VectorAssembler, PCA\n",
    "from pyspark.mllib.linalg import SparseVector, DenseVector, VectorUDT\n",
    "from pyspark.ml.classification import LogisticRegression\n",
    "\n",
    "%matplotlib inline"
   ]
  },
  {
   "cell_type": "code",
   "execution_count": 4,
   "metadata": {
    "scrolled": false
   },
   "outputs": [
    {
     "name": "stdout",
     "output_type": "stream",
     "text": [
      "100\n"
     ]
    },
    {
     "data": {
      "text/plain": [
       "DataFrame[node: string, disk: string, start_time: bigint, end_time: bigint, smart_Calibration_Retry_Count_raw_value: map<int,float>, smart_Command_Timeout_raw_value: map<int,float>, smart_Current_Pending_Sector_raw_value: map<int,float>, smart_End_to_End_Error_raw_value: map<int,float>, smart_G_Sense_Error_Rate_raw_value: map<int,float>, smart_Hardware_ECC_Recovered_raw_value: map<int,float>, smart_High_Fly_Writes_raw_value: map<int,float>, smart_Load_Cycle_Count_raw_value: map<int,float>, smart_Media_Wearout_Indicator_raw_value: map<int,float>, smart_Multi_Zone_Error_Rate_raw_value: map<int,float>, smart_Offline_Uncorrectable_raw_value: map<int,float>, smart_Power_Off_Retract_Count_raw_value: map<int,float>, smart_Power_Cycle_Count_raw_value: map<int,float>, smart_Power_On_Hours_raw_value: map<int,float>, smart_Program_Fail_Cnt_Total_raw_value: map<int,float>, smart_Raw_Read_Error_Rate_raw_value: map<int,float>, smart_Reallocated_Event_Count_raw_value: map<int,float>, smart_Reallocated_Sector_Ct_raw_value: map<int,float>, smart_Reported_Uncorrect_raw_value: map<int,float>, smart_Runtime_Bad_Block_raw_value: map<int,float>, smart_Seek_Error_Rate_raw_value: map<int,float>, smart_Spin_Retry_Count_raw_value: map<int,float>, smart_Spin_Up_Time_raw_value: map<int,float>, smart_Start_Stop_Count_raw_value: map<int,float>, smart_Temperature_Celsius_raw_value: map<int,float>, smart_Total_LBAs_Read_raw_value: map<int,float>, smart_UDMA_CRC_Error_Count_raw_value: map<int,float>, smart_Unknown_Attribute_raw_value: map<int,float>, smart_Unknown_SSD_Attribute_raw_value: map<int,float>, smart_Wear_Leveling_Count_raw_value: map<int,float>]"
      ]
     },
     "execution_count": 4,
     "metadata": {},
     "output_type": "execute_result"
    }
   ],
   "source": [
    "#Leemos el dataframe\n",
    "df = spark.read.parquet('hdd_dataset_new.parquet')\n",
    "\n",
    "#Una de las primeras cosas que necesitamos hacer es convertir los . en _ ya que en pyspark no los reconoce correctamente\n",
    "new_cols = [col.replace('.', '_') for col in df.columns]\n",
    "df = df.toDF(*new_cols)\n",
    "new_cols = [col.replace('-', '_') for col in df.columns]\n",
    "df = df.toDF(*new_cols)\n",
    "\n",
    "#Para los nodos reemplazamos los - por . y los abreviamos\n",
    "udf_replace = udf(lambda x: x.replace('-','.'),returnType=StringType())\n",
    "df = df.withColumn(\"node\", udf_replace(df.node))\n",
    "\n",
    "def abreviating_disk(a):\n",
    "    return \".\".join(a.split(\".\", 2)[:2])\n",
    "\n",
    "abreviating_disk_UDF = udf(lambda z: abreviating_disk(z),StringType())\n",
    "\n",
    "df = df.withColumn(\"node\", abreviating_disk_UDF('node'))\n",
    "\n",
    "#Leo las etiquetas\n",
    "df_labels = spark.read.csv(\"labels_processed.csv\", header=True)\n",
    "df_labels.createOrReplaceTempView(\"data\")\n",
    "labelspd = spark.sql(\"SELECT CONCAT(node, '-',  disk)  FROM data\").toPandas()\n",
    "\n",
    "#Filtramos\n",
    "node_disk = map(lambda x:x.encode(\"utf-8\"),[item for sublist in labelspd.values.tolist() for item in sublist])\n",
    "df = df.withColumn('nodedisk',concat(df.node,lit('-'), df.disk))\n",
    "df = df.filter(df.nodedisk.isin(node_disk) == True)\n",
    "df = df.drop('nodedisk')\n",
    "print df.count()\n",
    "df.cache()"
   ]
  },
  {
   "cell_type": "code",
   "execution_count": 2,
   "metadata": {},
   "outputs": [],
   "source": [
    "important_attributes = ['smart_Reallocated_Sector_Ct_raw_value','smart_Power_Cycle_Count_raw_value',\n",
    "                        'smart_Reported_Uncorrect_raw_value', 'smart_Command_Timeout_raw_value',\n",
    "                        'smart_High_Fly_Writes_raw_value', 'smart_Offline_Uncorrectable_raw_value',\n",
    "                        'smart_UDMA_CRC_Error_Count_raw_value', 'smart_Multi_Zone_Error_Rate_raw_value'\n",
    "                       ]\n",
    "important_attributes[7] = 'label'"
   ]
  },
  {
   "cell_type": "code",
   "execution_count": 6,
   "metadata": {},
   "outputs": [],
   "source": [
    "#df = df.where(\"node='c13.1'\").where(\"disk='sdb'\")"
   ]
  },
  {
   "cell_type": "code",
   "execution_count": 7,
   "metadata": {
    "scrolled": true
   },
   "outputs": [],
   "source": [
    "columnas_initial = df.columns[:]\n",
    "columnas_a_fusionar_copy = df.columns[4:]"
   ]
  },
  {
   "cell_type": "code",
   "execution_count": 8,
   "metadata": {},
   "outputs": [
    {
     "name": "stdout",
     "output_type": "stream",
     "text": [
      "61\n"
     ]
    }
   ],
   "source": [
    "columnas_a_fusionar = df.columns[4:]\n",
    "\n",
    "\n",
    "def merging(x):\n",
    "    return dict((key,d[key]) for d in x for key in d)\n",
    "\n",
    "merging_UDF = udf(lambda z: merging(z),MapType(IntegerType(), FloatType()))\n",
    "\n",
    "exprs = {x: \"collect_list\" for x in columnas_a_fusionar}\n",
    "df = df.groupBy(\"node\",\"disk\", \"start_time\", \"end_time\").agg(exprs)\n",
    "\n",
    "print df.count()\n",
    "df.cache()\n",
    "df = df.toDF(*columnas_initial)"
   ]
  },
  {
   "cell_type": "code",
   "execution_count": 9,
   "metadata": {},
   "outputs": [
    {
     "data": {
      "text/plain": [
       "61"
      ]
     },
     "execution_count": 9,
     "metadata": {},
     "output_type": "execute_result"
    }
   ],
   "source": [
    "cols = [merging_UDF(s) for s in df.columns[4:]]\n",
    "cols.insert(0, df.columns[0])\n",
    "cols.insert(1, df.columns[1])\n",
    "cols.insert(2, df.columns[2])\n",
    "cols.insert(3, df.columns[3])\n",
    "df.count()"
   ]
  },
  {
   "cell_type": "code",
   "execution_count": 10,
   "metadata": {},
   "outputs": [
    {
     "data": {
      "text/plain": [
       "DataFrame[node: string, disk: string, start_time: bigint, end_time: bigint, smart_Calibration_Retry_Count_raw_value: map<int,float>, smart_Command_Timeout_raw_value: map<int,float>, smart_Current_Pending_Sector_raw_value: map<int,float>, smart_End_to_End_Error_raw_value: map<int,float>, smart_G_Sense_Error_Rate_raw_value: map<int,float>, smart_Hardware_ECC_Recovered_raw_value: map<int,float>, smart_High_Fly_Writes_raw_value: map<int,float>, smart_Load_Cycle_Count_raw_value: map<int,float>, smart_Media_Wearout_Indicator_raw_value: map<int,float>, smart_Multi_Zone_Error_Rate_raw_value: map<int,float>, smart_Offline_Uncorrectable_raw_value: map<int,float>, smart_Power_Off_Retract_Count_raw_value: map<int,float>, smart_Power_Cycle_Count_raw_value: map<int,float>, smart_Power_On_Hours_raw_value: map<int,float>, smart_Program_Fail_Cnt_Total_raw_value: map<int,float>, smart_Raw_Read_Error_Rate_raw_value: map<int,float>, smart_Reallocated_Event_Count_raw_value: map<int,float>, smart_Reallocated_Sector_Ct_raw_value: map<int,float>, smart_Reported_Uncorrect_raw_value: map<int,float>, smart_Runtime_Bad_Block_raw_value: map<int,float>, smart_Seek_Error_Rate_raw_value: map<int,float>, smart_Spin_Retry_Count_raw_value: map<int,float>, smart_Spin_Up_Time_raw_value: map<int,float>, smart_Start_Stop_Count_raw_value: map<int,float>, smart_Temperature_Celsius_raw_value: map<int,float>, smart_Total_LBAs_Read_raw_value: map<int,float>, smart_UDMA_CRC_Error_Count_raw_value: map<int,float>, smart_Unknown_Attribute_raw_value: map<int,float>, smart_Unknown_SSD_Attribute_raw_value: map<int,float>, smart_Wear_Leveling_Count_raw_value: map<int,float>]"
      ]
     },
     "execution_count": 10,
     "metadata": {},
     "output_type": "execute_result"
    }
   ],
   "source": [
    "df = df.select(*cols)\n",
    "df = df.toDF(*columnas_initial)\n",
    "df.cache()"
   ]
  },
  {
   "cell_type": "code",
   "execution_count": 11,
   "metadata": {},
   "outputs": [
    {
     "data": {
      "text/html": [
       "<div>\n",
       "<style scoped>\n",
       "    .dataframe tbody tr th:only-of-type {\n",
       "        vertical-align: middle;\n",
       "    }\n",
       "\n",
       "    .dataframe tbody tr th {\n",
       "        vertical-align: top;\n",
       "    }\n",
       "\n",
       "    .dataframe thead th {\n",
       "        text-align: right;\n",
       "    }\n",
       "</style>\n",
       "<table border=\"1\" class=\"dataframe\">\n",
       "  <thead>\n",
       "    <tr style=\"text-align: right;\">\n",
       "      <th></th>\n",
       "      <th>node</th>\n",
       "      <th>disk</th>\n",
       "      <th>start_time</th>\n",
       "      <th>end_time</th>\n",
       "      <th>smart_Calibration_Retry_Count_raw_value</th>\n",
       "      <th>smart_Command_Timeout_raw_value</th>\n",
       "      <th>smart_Current_Pending_Sector_raw_value</th>\n",
       "      <th>smart_End_to_End_Error_raw_value</th>\n",
       "      <th>smart_G_Sense_Error_Rate_raw_value</th>\n",
       "      <th>smart_Hardware_ECC_Recovered_raw_value</th>\n",
       "      <th>...</th>\n",
       "      <th>smart_Seek_Error_Rate_raw_value</th>\n",
       "      <th>smart_Spin_Retry_Count_raw_value</th>\n",
       "      <th>smart_Spin_Up_Time_raw_value</th>\n",
       "      <th>smart_Start_Stop_Count_raw_value</th>\n",
       "      <th>smart_Temperature_Celsius_raw_value</th>\n",
       "      <th>smart_Total_LBAs_Read_raw_value</th>\n",
       "      <th>smart_UDMA_CRC_Error_Count_raw_value</th>\n",
       "      <th>smart_Unknown_Attribute_raw_value</th>\n",
       "      <th>smart_Unknown_SSD_Attribute_raw_value</th>\n",
       "      <th>smart_Wear_Leveling_Count_raw_value</th>\n",
       "    </tr>\n",
       "  </thead>\n",
       "  <tbody>\n",
       "    <tr>\n",
       "      <th>0</th>\n",
       "      <td>c14.11</td>\n",
       "      <td>sdl</td>\n",
       "      <td>1514764800</td>\n",
       "      <td>1622505600</td>\n",
       "      <td>{}</td>\n",
       "      <td>{1592524802: 0.0, 1549008901: 0.0, 1564475402:...</td>\n",
       "      <td>{1592524802: 0.0, 1549008901: 0.0, 1564475402:...</td>\n",
       "      <td>{}</td>\n",
       "      <td>{}</td>\n",
       "      <td>{}</td>\n",
       "      <td>...</td>\n",
       "      <td>{1592524802: 0.0, 1549008901: 0.0, 1564475402:...</td>\n",
       "      <td>{}</td>\n",
       "      <td>{1592524802: 0.0, 1549008901: 0.0, 1564475402:...</td>\n",
       "      <td>{}</td>\n",
       "      <td>{1592524802: 0.0, 1549008901: 0.0, 1564475402:...</td>\n",
       "      <td>{1592524802: 0.0, 1549008901: 0.0, 1564475402:...</td>\n",
       "      <td>{1592524802: 0.0, 1549008901: 0.0, 1564475402:...</td>\n",
       "      <td>{1592524802: 26.0, 1549008901: 24.0, 156447540...</td>\n",
       "      <td>{1592524802: 15963.0, 1549008901: 3886.0, 1564...</td>\n",
       "      <td>{}</td>\n",
       "    </tr>\n",
       "  </tbody>\n",
       "</table>\n",
       "<p>1 rows × 34 columns</p>\n",
       "</div>"
      ],
      "text/plain": [
       "     node disk  start_time    end_time  \\\n",
       "0  c14.11  sdl  1514764800  1622505600   \n",
       "\n",
       "  smart_Calibration_Retry_Count_raw_value  \\\n",
       "0                                      {}   \n",
       "\n",
       "                     smart_Command_Timeout_raw_value  \\\n",
       "0  {1592524802: 0.0, 1549008901: 0.0, 1564475402:...   \n",
       "\n",
       "              smart_Current_Pending_Sector_raw_value  \\\n",
       "0  {1592524802: 0.0, 1549008901: 0.0, 1564475402:...   \n",
       "\n",
       "  smart_End_to_End_Error_raw_value smart_G_Sense_Error_Rate_raw_value  \\\n",
       "0                               {}                                 {}   \n",
       "\n",
       "  smart_Hardware_ECC_Recovered_raw_value                 ...                  \\\n",
       "0                                     {}                 ...                   \n",
       "\n",
       "                     smart_Seek_Error_Rate_raw_value  \\\n",
       "0  {1592524802: 0.0, 1549008901: 0.0, 1564475402:...   \n",
       "\n",
       "  smart_Spin_Retry_Count_raw_value  \\\n",
       "0                               {}   \n",
       "\n",
       "                        smart_Spin_Up_Time_raw_value  \\\n",
       "0  {1592524802: 0.0, 1549008901: 0.0, 1564475402:...   \n",
       "\n",
       "  smart_Start_Stop_Count_raw_value  \\\n",
       "0                               {}   \n",
       "\n",
       "                 smart_Temperature_Celsius_raw_value  \\\n",
       "0  {1592524802: 0.0, 1549008901: 0.0, 1564475402:...   \n",
       "\n",
       "                     smart_Total_LBAs_Read_raw_value  \\\n",
       "0  {1592524802: 0.0, 1549008901: 0.0, 1564475402:...   \n",
       "\n",
       "                smart_UDMA_CRC_Error_Count_raw_value  \\\n",
       "0  {1592524802: 0.0, 1549008901: 0.0, 1564475402:...   \n",
       "\n",
       "                   smart_Unknown_Attribute_raw_value  \\\n",
       "0  {1592524802: 26.0, 1549008901: 24.0, 156447540...   \n",
       "\n",
       "               smart_Unknown_SSD_Attribute_raw_value  \\\n",
       "0  {1592524802: 15963.0, 1549008901: 3886.0, 1564...   \n",
       "\n",
       "  smart_Wear_Leveling_Count_raw_value  \n",
       "0                                  {}  \n",
       "\n",
       "[1 rows x 34 columns]"
      ]
     },
     "execution_count": 11,
     "metadata": {},
     "output_type": "execute_result"
    }
   ],
   "source": [
    "df.limit(1).toPandas()"
   ]
  },
  {
   "cell_type": "code",
   "execution_count": 12,
   "metadata": {
    "scrolled": false
   },
   "outputs": [
    {
     "name": "stdout",
     "output_type": "stream",
     "text": [
      "+----+--------+---------------+-----+\n",
      "|disk|capacity|           type| node|\n",
      "+----+--------+---------------+-----+\n",
      "| sda|    1.8T|WD2000FYYZ-23UL|c14.4|\n",
      "| sdb|    1.8T|WD2000FYYZ-23UL|c14.4|\n",
      "| sdc|    1.8T|WD2000FYYZ-23UL|c14.4|\n",
      "| sdd|    1.8T|WD2000FYYZ-23UL|c14.4|\n",
      "| sde|    1.8T|WD2000FYYZ-23UL|c14.4|\n",
      "| sdf|    1.8T|WD2000FYYZ-23UL|c14.4|\n",
      "| sdg|    1.8T|WD2000FYYZ-23UL|c14.4|\n",
      "| sdh|    1.8T|WD2000FYYZ-23UL|c14.4|\n",
      "| sdi|    1.8T|WD2000FYYZ-23UL|c14.4|\n",
      "| sdj|    1.8T|WD2000FYYZ-23UL|c14.4|\n",
      "+----+--------+---------------+-----+\n",
      "only showing top 10 rows\n",
      "\n"
     ]
    }
   ],
   "source": [
    "disk_crct = spark.read.csv(\"disk_models_formatted.csv\", header=True)\n",
    "disk_crct.show(10)"
   ]
  },
  {
   "cell_type": "code",
   "execution_count": 13,
   "metadata": {},
   "outputs": [
    {
     "name": "stdout",
     "output_type": "stream",
     "text": [
      "+------+--------+---------------+------+\n",
      "|b_disk|capacity|           type|b_node|\n",
      "+------+--------+---------------+------+\n",
      "|   sda|    1.8T|WD2000FYYZ-23UL| c14.4|\n",
      "|   sdb|    1.8T|WD2000FYYZ-23UL| c14.4|\n",
      "|   sdc|    1.8T|WD2000FYYZ-23UL| c14.4|\n",
      "|   sdd|    1.8T|WD2000FYYZ-23UL| c14.4|\n",
      "|   sde|    1.8T|WD2000FYYZ-23UL| c14.4|\n",
      "|   sdf|    1.8T|WD2000FYYZ-23UL| c14.4|\n",
      "|   sdg|    1.8T|WD2000FYYZ-23UL| c14.4|\n",
      "|   sdh|    1.8T|WD2000FYYZ-23UL| c14.4|\n",
      "|   sdi|    1.8T|WD2000FYYZ-23UL| c14.4|\n",
      "|   sdj|    1.8T|WD2000FYYZ-23UL| c14.4|\n",
      "|   sdk|    1.8T|WD2000FYYZ-23UL| c14.4|\n",
      "|   sdl|    1.8T|WD2000FYYZ-23UL| c14.4|\n",
      "|   sda|    1.8T|WD2000FYYZ-23UL| c14.7|\n",
      "|   sdb|    1.8T|WD2000FYYZ-23UL| c14.7|\n",
      "|   sdc|    1.8T|WD2000FYYZ-23UL| c14.7|\n",
      "|   sdd|    1.8T|WD2000FYYZ-23UL| c14.7|\n",
      "|   sde|    1.8T|WD2000FYYZ-23UL| c14.7|\n",
      "|   sdf|    1.8T|WD2000FYYZ-23UL| c14.7|\n",
      "|   sdg|    1.8T|WD2000FYYZ-23UL| c14.7|\n",
      "|   sdh|    1.8T|WD2000FYYZ-23UL| c14.7|\n",
      "+------+--------+---------------+------+\n",
      "only showing top 20 rows\n",
      "\n"
     ]
    }
   ],
   "source": [
    "disk_crct = disk_crct.withColumnRenamed('node', 'b_node')\n",
    "disk_crct = disk_crct.withColumnRenamed('disk', 'b_disk')\n",
    "disk_crct.show()"
   ]
  },
  {
   "cell_type": "code",
   "execution_count": 14,
   "metadata": {},
   "outputs": [],
   "source": [
    "df = df.join(disk_crct, (df.node == disk_crct.b_node) & (df.disk == disk_crct.b_disk), how='left')"
   ]
  },
  {
   "cell_type": "code",
   "execution_count": 15,
   "metadata": {},
   "outputs": [],
   "source": [
    "df = df.drop('b_disk').drop('b_node')"
   ]
  },
  {
   "cell_type": "code",
   "execution_count": 16,
   "metadata": {},
   "outputs": [
    {
     "data": {
      "text/html": [
       "<div>\n",
       "<style scoped>\n",
       "    .dataframe tbody tr th:only-of-type {\n",
       "        vertical-align: middle;\n",
       "    }\n",
       "\n",
       "    .dataframe tbody tr th {\n",
       "        vertical-align: top;\n",
       "    }\n",
       "\n",
       "    .dataframe thead th {\n",
       "        text-align: right;\n",
       "    }\n",
       "</style>\n",
       "<table border=\"1\" class=\"dataframe\">\n",
       "  <thead>\n",
       "    <tr style=\"text-align: right;\">\n",
       "      <th></th>\n",
       "      <th>node</th>\n",
       "      <th>disk</th>\n",
       "      <th>start_time</th>\n",
       "      <th>end_time</th>\n",
       "      <th>smart_Calibration_Retry_Count_raw_value</th>\n",
       "      <th>smart_Command_Timeout_raw_value</th>\n",
       "      <th>smart_Current_Pending_Sector_raw_value</th>\n",
       "      <th>smart_End_to_End_Error_raw_value</th>\n",
       "      <th>smart_G_Sense_Error_Rate_raw_value</th>\n",
       "      <th>smart_Hardware_ECC_Recovered_raw_value</th>\n",
       "      <th>...</th>\n",
       "      <th>smart_Spin_Up_Time_raw_value</th>\n",
       "      <th>smart_Start_Stop_Count_raw_value</th>\n",
       "      <th>smart_Temperature_Celsius_raw_value</th>\n",
       "      <th>smart_Total_LBAs_Read_raw_value</th>\n",
       "      <th>smart_UDMA_CRC_Error_Count_raw_value</th>\n",
       "      <th>smart_Unknown_Attribute_raw_value</th>\n",
       "      <th>smart_Unknown_SSD_Attribute_raw_value</th>\n",
       "      <th>smart_Wear_Leveling_Count_raw_value</th>\n",
       "      <th>capacity</th>\n",
       "      <th>type</th>\n",
       "    </tr>\n",
       "  </thead>\n",
       "  <tbody>\n",
       "    <tr>\n",
       "      <th>0</th>\n",
       "      <td>c14.11</td>\n",
       "      <td>sdl</td>\n",
       "      <td>1514764800</td>\n",
       "      <td>1622505600</td>\n",
       "      <td>{}</td>\n",
       "      <td>{1592524802: 0.0, 1549008901: 0.0, 1564475402:...</td>\n",
       "      <td>{1592524802: 0.0, 1549008901: 0.0, 1564475402:...</td>\n",
       "      <td>{}</td>\n",
       "      <td>{}</td>\n",
       "      <td>{}</td>\n",
       "      <td>...</td>\n",
       "      <td>{1592524802: 0.0, 1549008901: 0.0, 1564475402:...</td>\n",
       "      <td>{}</td>\n",
       "      <td>{1592524802: 0.0, 1549008901: 0.0, 1564475402:...</td>\n",
       "      <td>{1592524802: 0.0, 1549008901: 0.0, 1564475402:...</td>\n",
       "      <td>{1592524802: 0.0, 1549008901: 0.0, 1564475402:...</td>\n",
       "      <td>{1592524802: 26.0, 1549008901: 24.0, 156447540...</td>\n",
       "      <td>{1592524802: 15963.0, 1549008901: 3886.0, 1564...</td>\n",
       "      <td>{}</td>\n",
       "      <td>None</td>\n",
       "      <td>None</td>\n",
       "    </tr>\n",
       "    <tr>\n",
       "      <th>1</th>\n",
       "      <td>c14.8</td>\n",
       "      <td>sdk</td>\n",
       "      <td>1514764800</td>\n",
       "      <td>1622505600</td>\n",
       "      <td>{}</td>\n",
       "      <td>{1592524801: 0.0, 1549008901: 0.0, 1607991302:...</td>\n",
       "      <td>{1592524801: 2.0, 1549008901: 0.0, 1607991302:...</td>\n",
       "      <td>{}</td>\n",
       "      <td>{}</td>\n",
       "      <td>{}</td>\n",
       "      <td>...</td>\n",
       "      <td>{1592524801: 0.0, 1549008901: 0.0, 1607991302:...</td>\n",
       "      <td>{}</td>\n",
       "      <td>{1592524801: 0.0, 1563033602: 0.0, 1575028802:...</td>\n",
       "      <td>{1592524801: 0.0, 1549008901: 0.0, 1607991302:...</td>\n",
       "      <td>{1592524801: 0.0, 1549008901: 0.0, 1607991302:...</td>\n",
       "      <td>{1592524801: 26.0, 1549008901: 24.0, 160799130...</td>\n",
       "      <td>{1592524801: 26940.0, 1549008901: 14864.0, 160...</td>\n",
       "      <td>{}</td>\n",
       "      <td>1.8T</td>\n",
       "      <td>WDC WD2003FZEX-0</td>\n",
       "    </tr>\n",
       "    <tr>\n",
       "      <th>2</th>\n",
       "      <td>c14.14</td>\n",
       "      <td>sdd</td>\n",
       "      <td>1514764800</td>\n",
       "      <td>1622505600</td>\n",
       "      <td>{}</td>\n",
       "      <td>{1592524801: 0.0, 1533542402: 0.0, 1607991301:...</td>\n",
       "      <td>{1592524801: 0.0, 1533542402: 12.0, 1607991301...</td>\n",
       "      <td>{}</td>\n",
       "      <td>{}</td>\n",
       "      <td>{}</td>\n",
       "      <td>...</td>\n",
       "      <td>{1592524801: 0.0, 1533542402: 2.0, 1607991301:...</td>\n",
       "      <td>{}</td>\n",
       "      <td>{1592524801: 0.0, 1533542402: 0.0, 1607991301:...</td>\n",
       "      <td>{1592524801: 0.0, 1533542402: 0.0, 1607991301:...</td>\n",
       "      <td>{1592524801: 0.0, 1533542402: 0.0, 1607991301:...</td>\n",
       "      <td>{1592524801: 26.0, 1533542402: 24.0, 160799130...</td>\n",
       "      <td>{1592524801: 17154.0, 1533542402: 3343.0, 1607...</td>\n",
       "      <td>{}</td>\n",
       "      <td>1.8T</td>\n",
       "      <td>WD2000FYYZ-23UL</td>\n",
       "    </tr>\n",
       "    <tr>\n",
       "      <th>3</th>\n",
       "      <td>c14.3</td>\n",
       "      <td>sdl</td>\n",
       "      <td>1514764800</td>\n",
       "      <td>1622505600</td>\n",
       "      <td>{}</td>\n",
       "      <td>{1592524802: 0.0, 1607991301: 0.0, 1549008902:...</td>\n",
       "      <td>{1592524802: 0.0, 1607991301: 0.0, 1549008902:...</td>\n",
       "      <td>{}</td>\n",
       "      <td>{}</td>\n",
       "      <td>{}</td>\n",
       "      <td>...</td>\n",
       "      <td>{1518796802: 0.0, 1519517702: 0.0, 1529856001:...</td>\n",
       "      <td>{}</td>\n",
       "      <td>{1518796802: 0.0, 1519517702: 0.0, 1529856001:...</td>\n",
       "      <td>{1518796802: 0.0, 1519517702: 0.0, 1529856001:...</td>\n",
       "      <td>{1592524802: 0.0, 1607991301: 0.0, 1549008902:...</td>\n",
       "      <td>{1518796802: 25.0, 1519517702: 24.0, 152985600...</td>\n",
       "      <td>{1592524802: 16506.0, 1607991301: 20801.0, 154...</td>\n",
       "      <td>{}</td>\n",
       "      <td>None</td>\n",
       "      <td>None</td>\n",
       "    </tr>\n",
       "    <tr>\n",
       "      <th>4</th>\n",
       "      <td>c14.9</td>\n",
       "      <td>sdb</td>\n",
       "      <td>1514764800</td>\n",
       "      <td>1622505600</td>\n",
       "      <td>{}</td>\n",
       "      <td>{1592524802: 0.0, 1549008901: 0.0, 1607991302:...</td>\n",
       "      <td>{1592524802: 0.0, 1549008901: 0.0, 1607991302:...</td>\n",
       "      <td>{}</td>\n",
       "      <td>{}</td>\n",
       "      <td>{}</td>\n",
       "      <td>...</td>\n",
       "      <td>{1518796801: 0.0, 1519517701: 0.0, 1520238601:...</td>\n",
       "      <td>{}</td>\n",
       "      <td>{1518796801: 0.0, 1519517701: 0.0, 1520238601:...</td>\n",
       "      <td>{1518796801: 0.0, 1519517701: 0.0, 1520238601:...</td>\n",
       "      <td>{1592524802: 0.0, 1549008901: 0.0, 1607991302:...</td>\n",
       "      <td>{1518796801: 23.0, 1519517701: 23.0, 152023860...</td>\n",
       "      <td>{1592524802: 18648.0, 1549008901: 6560.0, 1607...</td>\n",
       "      <td>{}</td>\n",
       "      <td>1.8T</td>\n",
       "      <td>MG04ACA200N</td>\n",
       "    </tr>\n",
       "    <tr>\n",
       "      <th>5</th>\n",
       "      <td>c14.1</td>\n",
       "      <td>sdc</td>\n",
       "      <td>1514764800</td>\n",
       "      <td>1622505600</td>\n",
       "      <td>{}</td>\n",
       "      <td>{1592524801: 61730108.0, 1549008901: 0.0, 1564...</td>\n",
       "      <td>{1519517701: 0.0, 1548288001: 0.0, 1520959501:...</td>\n",
       "      <td>{}</td>\n",
       "      <td>{}</td>\n",
       "      <td>{}</td>\n",
       "      <td>...</td>\n",
       "      <td>{1519517701: 0.0, 1548288001: 0.0, 1520959501:...</td>\n",
       "      <td>{}</td>\n",
       "      <td>{1592524801: 36614264.0, 1549008901: 0.0, 1564...</td>\n",
       "      <td>{1519517701: 0.0, 1548288001: 0.0, 1520959501:...</td>\n",
       "      <td>{1592524801: 0.0, 1549008901: 0.0, 1564475401:...</td>\n",
       "      <td>{1519517701: 24.0, 1548288001: 25.0, 152095950...</td>\n",
       "      <td>{1592524801: 26389.0, 1549008901: 9039.0, 1564...</td>\n",
       "      <td>{1592524801: 0.0, 1563033602: 0.0, 1578500101:...</td>\n",
       "      <td>1.8T</td>\n",
       "      <td>ST2000NM0011</td>\n",
       "    </tr>\n",
       "    <tr>\n",
       "      <th>6</th>\n",
       "      <td>c14.16</td>\n",
       "      <td>sdh</td>\n",
       "      <td>1514764800</td>\n",
       "      <td>1622505600</td>\n",
       "      <td>{}</td>\n",
       "      <td>{1533542401: 0.0, 1592524802: 4384486.0, 15490...</td>\n",
       "      <td>{1533542401: 0.0, 1549008901: 0.0, 1534984201:...</td>\n",
       "      <td>{}</td>\n",
       "      <td>{}</td>\n",
       "      <td>{}</td>\n",
       "      <td>...</td>\n",
       "      <td>{1533542401: 0.0, 1549008901: 0.0, 1534984201:...</td>\n",
       "      <td>{}</td>\n",
       "      <td>{1533542401: 0.0, 1592524802: 51605272.0, 1549...</td>\n",
       "      <td>{1533542401: 0.0, 1549008901: 0.0, 1534984201:...</td>\n",
       "      <td>{1533542401: 0.0, 1592524802: 0.0, 1549008901:...</td>\n",
       "      <td>{1533542401: 24.0, 1549008901: 25.0, 153498420...</td>\n",
       "      <td>{1533542401: 6795.0, 1592524802: 29671.0, 1549...</td>\n",
       "      <td>{1563033601: 0.0, 1592524802: 0.0, 1578500101:...</td>\n",
       "      <td>1.8T</td>\n",
       "      <td>ST2000NM0011</td>\n",
       "    </tr>\n",
       "    <tr>\n",
       "      <th>7</th>\n",
       "      <td>c13.17</td>\n",
       "      <td>sdg</td>\n",
       "      <td>1514764800</td>\n",
       "      <td>1622505600</td>\n",
       "      <td>{}</td>\n",
       "      <td>{1533542401: 0.0, 1549008901: 0.0, 1592524801:...</td>\n",
       "      <td>{1533542401: 0.0, 1549008901: 0.0, 1592524801:...</td>\n",
       "      <td>{}</td>\n",
       "      <td>{}</td>\n",
       "      <td>{}</td>\n",
       "      <td>...</td>\n",
       "      <td>{1533542401: 0.0, 1549008901: 0.0, 1592524801:...</td>\n",
       "      <td>{}</td>\n",
       "      <td>{1533542401: 0.0, 1549008901: 0.0, 1592524801:...</td>\n",
       "      <td>{1533542401: 0.0, 1549008901: 0.0, 1592524801:...</td>\n",
       "      <td>{1533542401: 0.0, 1549008901: 0.0, 1592524801:...</td>\n",
       "      <td>{1533542401: 23.0, 1549008901: 23.0, 159252480...</td>\n",
       "      <td>{1533542401: 21561.0, 1549008901: 25851.0, 159...</td>\n",
       "      <td>{}</td>\n",
       "      <td>1.8T</td>\n",
       "      <td>WD2000FYYZ-23UL</td>\n",
       "    </tr>\n",
       "    <tr>\n",
       "      <th>8</th>\n",
       "      <td>c13.9</td>\n",
       "      <td>sdk</td>\n",
       "      <td>1514764800</td>\n",
       "      <td>1622505600</td>\n",
       "      <td>{}</td>\n",
       "      <td>{1592524801: 0.0, 1533542402: 0.0, 1549008901:...</td>\n",
       "      <td>{1592524801: 17.0, 1533542402: 0.0, 1549008901...</td>\n",
       "      <td>{}</td>\n",
       "      <td>{}</td>\n",
       "      <td>{}</td>\n",
       "      <td>...</td>\n",
       "      <td>{1592524801: 38.0, 1533542402: 0.0, 1549008901...</td>\n",
       "      <td>{}</td>\n",
       "      <td>{1563033601: 0.0, 1533542402: 0.0, 1531698302:...</td>\n",
       "      <td>{1592524801: 0.0, 1533542402: 0.0, 1549008901:...</td>\n",
       "      <td>{1592524801: 0.0, 1533542402: 0.0, 1549008901:...</td>\n",
       "      <td>{1592524801: 26.0, 1533542402: 24.0, 154900890...</td>\n",
       "      <td>{1592524801: 38790.0, 1533542402: 22422.0, 154...</td>\n",
       "      <td>{}</td>\n",
       "      <td>1.8T</td>\n",
       "      <td>WDC WD2003FZEX-0</td>\n",
       "    </tr>\n",
       "    <tr>\n",
       "      <th>9</th>\n",
       "      <td>c14.14</td>\n",
       "      <td>sde</td>\n",
       "      <td>1514764800</td>\n",
       "      <td>1622505600</td>\n",
       "      <td>{}</td>\n",
       "      <td>{1533542402: 0.0, 1607991301: 0.0, 1549008902:...</td>\n",
       "      <td>{1533542402: 0.0, 1607991301: 0.0, 1549008902:...</td>\n",
       "      <td>{}</td>\n",
       "      <td>{}</td>\n",
       "      <td>{}</td>\n",
       "      <td>...</td>\n",
       "      <td>{1533542402: 0.0, 1607991301: 0.0, 1549008902:...</td>\n",
       "      <td>{}</td>\n",
       "      <td>{1533542402: 0.0, 1607991301: 0.0, 1549008902:...</td>\n",
       "      <td>{1533542402: 0.0, 1607991301: 0.0, 1549008902:...</td>\n",
       "      <td>{1533542402: 0.0, 1607991301: 0.0, 1549008902:...</td>\n",
       "      <td>{1533542402: 24.0, 1607991301: 26.0, 154900890...</td>\n",
       "      <td>{1533542402: 8186.0, 1607991301: 24072.0, 1549...</td>\n",
       "      <td>{}</td>\n",
       "      <td>1.8T</td>\n",
       "      <td>WD2000FYYZ-23UL</td>\n",
       "    </tr>\n",
       "  </tbody>\n",
       "</table>\n",
       "<p>10 rows × 36 columns</p>\n",
       "</div>"
      ],
      "text/plain": [
       "     node disk  start_time    end_time  \\\n",
       "0  c14.11  sdl  1514764800  1622505600   \n",
       "1   c14.8  sdk  1514764800  1622505600   \n",
       "2  c14.14  sdd  1514764800  1622505600   \n",
       "3   c14.3  sdl  1514764800  1622505600   \n",
       "4   c14.9  sdb  1514764800  1622505600   \n",
       "5   c14.1  sdc  1514764800  1622505600   \n",
       "6  c14.16  sdh  1514764800  1622505600   \n",
       "7  c13.17  sdg  1514764800  1622505600   \n",
       "8   c13.9  sdk  1514764800  1622505600   \n",
       "9  c14.14  sde  1514764800  1622505600   \n",
       "\n",
       "  smart_Calibration_Retry_Count_raw_value  \\\n",
       "0                                      {}   \n",
       "1                                      {}   \n",
       "2                                      {}   \n",
       "3                                      {}   \n",
       "4                                      {}   \n",
       "5                                      {}   \n",
       "6                                      {}   \n",
       "7                                      {}   \n",
       "8                                      {}   \n",
       "9                                      {}   \n",
       "\n",
       "                     smart_Command_Timeout_raw_value  \\\n",
       "0  {1592524802: 0.0, 1549008901: 0.0, 1564475402:...   \n",
       "1  {1592524801: 0.0, 1549008901: 0.0, 1607991302:...   \n",
       "2  {1592524801: 0.0, 1533542402: 0.0, 1607991301:...   \n",
       "3  {1592524802: 0.0, 1607991301: 0.0, 1549008902:...   \n",
       "4  {1592524802: 0.0, 1549008901: 0.0, 1607991302:...   \n",
       "5  {1592524801: 61730108.0, 1549008901: 0.0, 1564...   \n",
       "6  {1533542401: 0.0, 1592524802: 4384486.0, 15490...   \n",
       "7  {1533542401: 0.0, 1549008901: 0.0, 1592524801:...   \n",
       "8  {1592524801: 0.0, 1533542402: 0.0, 1549008901:...   \n",
       "9  {1533542402: 0.0, 1607991301: 0.0, 1549008902:...   \n",
       "\n",
       "              smart_Current_Pending_Sector_raw_value  \\\n",
       "0  {1592524802: 0.0, 1549008901: 0.0, 1564475402:...   \n",
       "1  {1592524801: 2.0, 1549008901: 0.0, 1607991302:...   \n",
       "2  {1592524801: 0.0, 1533542402: 12.0, 1607991301...   \n",
       "3  {1592524802: 0.0, 1607991301: 0.0, 1549008902:...   \n",
       "4  {1592524802: 0.0, 1549008901: 0.0, 1607991302:...   \n",
       "5  {1519517701: 0.0, 1548288001: 0.0, 1520959501:...   \n",
       "6  {1533542401: 0.0, 1549008901: 0.0, 1534984201:...   \n",
       "7  {1533542401: 0.0, 1549008901: 0.0, 1592524801:...   \n",
       "8  {1592524801: 17.0, 1533542402: 0.0, 1549008901...   \n",
       "9  {1533542402: 0.0, 1607991301: 0.0, 1549008902:...   \n",
       "\n",
       "  smart_End_to_End_Error_raw_value smart_G_Sense_Error_Rate_raw_value  \\\n",
       "0                               {}                                 {}   \n",
       "1                               {}                                 {}   \n",
       "2                               {}                                 {}   \n",
       "3                               {}                                 {}   \n",
       "4                               {}                                 {}   \n",
       "5                               {}                                 {}   \n",
       "6                               {}                                 {}   \n",
       "7                               {}                                 {}   \n",
       "8                               {}                                 {}   \n",
       "9                               {}                                 {}   \n",
       "\n",
       "  smart_Hardware_ECC_Recovered_raw_value        ...         \\\n",
       "0                                     {}        ...          \n",
       "1                                     {}        ...          \n",
       "2                                     {}        ...          \n",
       "3                                     {}        ...          \n",
       "4                                     {}        ...          \n",
       "5                                     {}        ...          \n",
       "6                                     {}        ...          \n",
       "7                                     {}        ...          \n",
       "8                                     {}        ...          \n",
       "9                                     {}        ...          \n",
       "\n",
       "                        smart_Spin_Up_Time_raw_value  \\\n",
       "0  {1592524802: 0.0, 1549008901: 0.0, 1564475402:...   \n",
       "1  {1592524801: 0.0, 1549008901: 0.0, 1607991302:...   \n",
       "2  {1592524801: 0.0, 1533542402: 2.0, 1607991301:...   \n",
       "3  {1518796802: 0.0, 1519517702: 0.0, 1529856001:...   \n",
       "4  {1518796801: 0.0, 1519517701: 0.0, 1520238601:...   \n",
       "5  {1519517701: 0.0, 1548288001: 0.0, 1520959501:...   \n",
       "6  {1533542401: 0.0, 1549008901: 0.0, 1534984201:...   \n",
       "7  {1533542401: 0.0, 1549008901: 0.0, 1592524801:...   \n",
       "8  {1592524801: 38.0, 1533542402: 0.0, 1549008901...   \n",
       "9  {1533542402: 0.0, 1607991301: 0.0, 1549008902:...   \n",
       "\n",
       "  smart_Start_Stop_Count_raw_value  \\\n",
       "0                               {}   \n",
       "1                               {}   \n",
       "2                               {}   \n",
       "3                               {}   \n",
       "4                               {}   \n",
       "5                               {}   \n",
       "6                               {}   \n",
       "7                               {}   \n",
       "8                               {}   \n",
       "9                               {}   \n",
       "\n",
       "                 smart_Temperature_Celsius_raw_value  \\\n",
       "0  {1592524802: 0.0, 1549008901: 0.0, 1564475402:...   \n",
       "1  {1592524801: 0.0, 1563033602: 0.0, 1575028802:...   \n",
       "2  {1592524801: 0.0, 1533542402: 0.0, 1607991301:...   \n",
       "3  {1518796802: 0.0, 1519517702: 0.0, 1529856001:...   \n",
       "4  {1518796801: 0.0, 1519517701: 0.0, 1520238601:...   \n",
       "5  {1592524801: 36614264.0, 1549008901: 0.0, 1564...   \n",
       "6  {1533542401: 0.0, 1592524802: 51605272.0, 1549...   \n",
       "7  {1533542401: 0.0, 1549008901: 0.0, 1592524801:...   \n",
       "8  {1563033601: 0.0, 1533542402: 0.0, 1531698302:...   \n",
       "9  {1533542402: 0.0, 1607991301: 0.0, 1549008902:...   \n",
       "\n",
       "                     smart_Total_LBAs_Read_raw_value  \\\n",
       "0  {1592524802: 0.0, 1549008901: 0.0, 1564475402:...   \n",
       "1  {1592524801: 0.0, 1549008901: 0.0, 1607991302:...   \n",
       "2  {1592524801: 0.0, 1533542402: 0.0, 1607991301:...   \n",
       "3  {1518796802: 0.0, 1519517702: 0.0, 1529856001:...   \n",
       "4  {1518796801: 0.0, 1519517701: 0.0, 1520238601:...   \n",
       "5  {1519517701: 0.0, 1548288001: 0.0, 1520959501:...   \n",
       "6  {1533542401: 0.0, 1549008901: 0.0, 1534984201:...   \n",
       "7  {1533542401: 0.0, 1549008901: 0.0, 1592524801:...   \n",
       "8  {1592524801: 0.0, 1533542402: 0.0, 1549008901:...   \n",
       "9  {1533542402: 0.0, 1607991301: 0.0, 1549008902:...   \n",
       "\n",
       "                smart_UDMA_CRC_Error_Count_raw_value  \\\n",
       "0  {1592524802: 0.0, 1549008901: 0.0, 1564475402:...   \n",
       "1  {1592524801: 0.0, 1549008901: 0.0, 1607991302:...   \n",
       "2  {1592524801: 0.0, 1533542402: 0.0, 1607991301:...   \n",
       "3  {1592524802: 0.0, 1607991301: 0.0, 1549008902:...   \n",
       "4  {1592524802: 0.0, 1549008901: 0.0, 1607991302:...   \n",
       "5  {1592524801: 0.0, 1549008901: 0.0, 1564475401:...   \n",
       "6  {1533542401: 0.0, 1592524802: 0.0, 1549008901:...   \n",
       "7  {1533542401: 0.0, 1549008901: 0.0, 1592524801:...   \n",
       "8  {1592524801: 0.0, 1533542402: 0.0, 1549008901:...   \n",
       "9  {1533542402: 0.0, 1607991301: 0.0, 1549008902:...   \n",
       "\n",
       "                   smart_Unknown_Attribute_raw_value  \\\n",
       "0  {1592524802: 26.0, 1549008901: 24.0, 156447540...   \n",
       "1  {1592524801: 26.0, 1549008901: 24.0, 160799130...   \n",
       "2  {1592524801: 26.0, 1533542402: 24.0, 160799130...   \n",
       "3  {1518796802: 25.0, 1519517702: 24.0, 152985600...   \n",
       "4  {1518796801: 23.0, 1519517701: 23.0, 152023860...   \n",
       "5  {1519517701: 24.0, 1548288001: 25.0, 152095950...   \n",
       "6  {1533542401: 24.0, 1549008901: 25.0, 153498420...   \n",
       "7  {1533542401: 23.0, 1549008901: 23.0, 159252480...   \n",
       "8  {1592524801: 26.0, 1533542402: 24.0, 154900890...   \n",
       "9  {1533542402: 24.0, 1607991301: 26.0, 154900890...   \n",
       "\n",
       "               smart_Unknown_SSD_Attribute_raw_value  \\\n",
       "0  {1592524802: 15963.0, 1549008901: 3886.0, 1564...   \n",
       "1  {1592524801: 26940.0, 1549008901: 14864.0, 160...   \n",
       "2  {1592524801: 17154.0, 1533542402: 3343.0, 1607...   \n",
       "3  {1592524802: 16506.0, 1607991301: 20801.0, 154...   \n",
       "4  {1592524802: 18648.0, 1549008901: 6560.0, 1607...   \n",
       "5  {1592524801: 26389.0, 1549008901: 9039.0, 1564...   \n",
       "6  {1533542401: 6795.0, 1592524802: 29671.0, 1549...   \n",
       "7  {1533542401: 21561.0, 1549008901: 25851.0, 159...   \n",
       "8  {1592524801: 38790.0, 1533542402: 22422.0, 154...   \n",
       "9  {1533542402: 8186.0, 1607991301: 24072.0, 1549...   \n",
       "\n",
       "                 smart_Wear_Leveling_Count_raw_value capacity  \\\n",
       "0                                                 {}     None   \n",
       "1                                                 {}     1.8T   \n",
       "2                                                 {}     1.8T   \n",
       "3                                                 {}     None   \n",
       "4                                                 {}     1.8T   \n",
       "5  {1592524801: 0.0, 1563033602: 0.0, 1578500101:...     1.8T   \n",
       "6  {1563033601: 0.0, 1592524802: 0.0, 1578500101:...     1.8T   \n",
       "7                                                 {}     1.8T   \n",
       "8                                                 {}     1.8T   \n",
       "9                                                 {}     1.8T   \n",
       "\n",
       "               type  \n",
       "0              None  \n",
       "1  WDC WD2003FZEX-0  \n",
       "2   WD2000FYYZ-23UL  \n",
       "3              None  \n",
       "4       MG04ACA200N  \n",
       "5      ST2000NM0011  \n",
       "6      ST2000NM0011  \n",
       "7   WD2000FYYZ-23UL  \n",
       "8  WDC WD2003FZEX-0  \n",
       "9   WD2000FYYZ-23UL  \n",
       "\n",
       "[10 rows x 36 columns]"
      ]
     },
     "execution_count": 16,
     "metadata": {},
     "output_type": "execute_result"
    }
   ],
   "source": [
    "df.limit(10).toPandas()"
   ]
  },
  {
   "cell_type": "code",
   "execution_count": 17,
   "metadata": {},
   "outputs": [],
   "source": [
    "df = df.withColumn('start_time', from_unixtime('start_time').cast(StringType()))\n",
    "df = df.withColumn('end_time', from_unixtime('end_time').cast(StringType()))\n",
    "\n",
    "def converting_timestamp(x):\n",
    "    return {datetime.utcfromtimestamp(key): value for key, value in x.iteritems()}\n",
    "\n",
    "converting_timestamp_UDF = udf(lambda x: converting_timestamp(x),returnType=MapType(TimestampType(), FloatType()))"
   ]
  },
  {
   "cell_type": "code",
   "execution_count": 18,
   "metadata": {},
   "outputs": [
    {
     "data": {
      "text/plain": [
       "61"
      ]
     },
     "execution_count": 18,
     "metadata": {},
     "output_type": "execute_result"
    }
   ],
   "source": [
    "cols = [converting_timestamp_UDF(s) for s in df.columns[4:34]]\n",
    "cols.insert(0, df.columns[0])\n",
    "cols.insert(1, df.columns[1])\n",
    "cols.insert(2, df.columns[2])\n",
    "cols.insert(3, df.columns[3])\n",
    "cols.insert(4, df.columns[34])\n",
    "cols.insert(5, df.columns[35])\n",
    "\n",
    "columnas_initial.insert(4, df.columns[34])\n",
    "columnas_initial.insert(5, df.columns[35])\n",
    "df.count()"
   ]
  },
  {
   "cell_type": "code",
   "execution_count": 19,
   "metadata": {},
   "outputs": [
    {
     "data": {
      "text/plain": [
       "DataFrame[node: string, disk: string, start_time: string, end_time: string, capacity: string, type: string, smart_Calibration_Retry_Count_raw_value: map<timestamp,float>, smart_Command_Timeout_raw_value: map<timestamp,float>, smart_Current_Pending_Sector_raw_value: map<timestamp,float>, smart_End_to_End_Error_raw_value: map<timestamp,float>, smart_G_Sense_Error_Rate_raw_value: map<timestamp,float>, smart_Hardware_ECC_Recovered_raw_value: map<timestamp,float>, smart_High_Fly_Writes_raw_value: map<timestamp,float>, smart_Load_Cycle_Count_raw_value: map<timestamp,float>, smart_Media_Wearout_Indicator_raw_value: map<timestamp,float>, smart_Multi_Zone_Error_Rate_raw_value: map<timestamp,float>, smart_Offline_Uncorrectable_raw_value: map<timestamp,float>, smart_Power_Off_Retract_Count_raw_value: map<timestamp,float>, smart_Power_Cycle_Count_raw_value: map<timestamp,float>, smart_Power_On_Hours_raw_value: map<timestamp,float>, smart_Program_Fail_Cnt_Total_raw_value: map<timestamp,float>, smart_Raw_Read_Error_Rate_raw_value: map<timestamp,float>, smart_Reallocated_Event_Count_raw_value: map<timestamp,float>, smart_Reallocated_Sector_Ct_raw_value: map<timestamp,float>, smart_Reported_Uncorrect_raw_value: map<timestamp,float>, smart_Runtime_Bad_Block_raw_value: map<timestamp,float>, smart_Seek_Error_Rate_raw_value: map<timestamp,float>, smart_Spin_Retry_Count_raw_value: map<timestamp,float>, smart_Spin_Up_Time_raw_value: map<timestamp,float>, smart_Start_Stop_Count_raw_value: map<timestamp,float>, smart_Temperature_Celsius_raw_value: map<timestamp,float>, smart_Total_LBAs_Read_raw_value: map<timestamp,float>, smart_UDMA_CRC_Error_Count_raw_value: map<timestamp,float>, smart_Unknown_Attribute_raw_value: map<timestamp,float>, smart_Unknown_SSD_Attribute_raw_value: map<timestamp,float>, smart_Wear_Leveling_Count_raw_value: map<timestamp,float>]"
      ]
     },
     "execution_count": 19,
     "metadata": {},
     "output_type": "execute_result"
    }
   ],
   "source": [
    "df = df.select(*cols)\n",
    "df = df.toDF(*columnas_initial)\n",
    "df.cache()"
   ]
  },
  {
   "cell_type": "code",
   "execution_count": 20,
   "metadata": {},
   "outputs": [
    {
     "data": {
      "text/html": [
       "<div>\n",
       "<style scoped>\n",
       "    .dataframe tbody tr th:only-of-type {\n",
       "        vertical-align: middle;\n",
       "    }\n",
       "\n",
       "    .dataframe tbody tr th {\n",
       "        vertical-align: top;\n",
       "    }\n",
       "\n",
       "    .dataframe thead th {\n",
       "        text-align: right;\n",
       "    }\n",
       "</style>\n",
       "<table border=\"1\" class=\"dataframe\">\n",
       "  <thead>\n",
       "    <tr style=\"text-align: right;\">\n",
       "      <th></th>\n",
       "      <th>node</th>\n",
       "      <th>disk</th>\n",
       "      <th>start_time</th>\n",
       "      <th>end_time</th>\n",
       "      <th>capacity</th>\n",
       "      <th>type</th>\n",
       "      <th>smart_Calibration_Retry_Count_raw_value</th>\n",
       "      <th>smart_Command_Timeout_raw_value</th>\n",
       "      <th>smart_Current_Pending_Sector_raw_value</th>\n",
       "      <th>smart_End_to_End_Error_raw_value</th>\n",
       "      <th>...</th>\n",
       "      <th>smart_Seek_Error_Rate_raw_value</th>\n",
       "      <th>smart_Spin_Retry_Count_raw_value</th>\n",
       "      <th>smart_Spin_Up_Time_raw_value</th>\n",
       "      <th>smart_Start_Stop_Count_raw_value</th>\n",
       "      <th>smart_Temperature_Celsius_raw_value</th>\n",
       "      <th>smart_Total_LBAs_Read_raw_value</th>\n",
       "      <th>smart_UDMA_CRC_Error_Count_raw_value</th>\n",
       "      <th>smart_Unknown_Attribute_raw_value</th>\n",
       "      <th>smart_Unknown_SSD_Attribute_raw_value</th>\n",
       "      <th>smart_Wear_Leveling_Count_raw_value</th>\n",
       "    </tr>\n",
       "  </thead>\n",
       "  <tbody>\n",
       "    <tr>\n",
       "      <th>0</th>\n",
       "      <td>c14.11</td>\n",
       "      <td>sdl</td>\n",
       "      <td>2018-01-01 01:00:00</td>\n",
       "      <td>2021-06-01 02:00:00</td>\n",
       "      <td>None</td>\n",
       "      <td>None</td>\n",
       "      <td>{}</td>\n",
       "      <td>{2020-03-09 05:30:02: 0.0, 2019-11-10 19:30:02...</td>\n",
       "      <td>{2020-03-09 05:30:02: 0.0, 2019-11-10 19:30:02...</td>\n",
       "      <td>{}</td>\n",
       "      <td>...</td>\n",
       "      <td>{2020-03-09 05:30:02: 0.0, 2019-11-10 19:30:02...</td>\n",
       "      <td>{}</td>\n",
       "      <td>{2020-03-09 05:30:02: 0.0, 2019-11-10 19:30:02...</td>\n",
       "      <td>{}</td>\n",
       "      <td>{2020-03-09 05:30:02: 0.0, 2019-11-10 19:30:02...</td>\n",
       "      <td>{2020-03-09 05:30:02: 0.0, 2019-11-10 19:30:02...</td>\n",
       "      <td>{2020-03-09 05:30:02: 0.0, 2019-11-10 19:30:02...</td>\n",
       "      <td>{2020-03-09 05:30:02: 25.0, 2019-11-10 19:30:0...</td>\n",
       "      <td>{2020-03-09 05:30:02: 13522.0, 2019-11-10 19:3...</td>\n",
       "      <td>{}</td>\n",
       "    </tr>\n",
       "  </tbody>\n",
       "</table>\n",
       "<p>1 rows × 36 columns</p>\n",
       "</div>"
      ],
      "text/plain": [
       "     node disk           start_time             end_time capacity  type  \\\n",
       "0  c14.11  sdl  2018-01-01 01:00:00  2021-06-01 02:00:00     None  None   \n",
       "\n",
       "  smart_Calibration_Retry_Count_raw_value  \\\n",
       "0                                      {}   \n",
       "\n",
       "                     smart_Command_Timeout_raw_value  \\\n",
       "0  {2020-03-09 05:30:02: 0.0, 2019-11-10 19:30:02...   \n",
       "\n",
       "              smart_Current_Pending_Sector_raw_value  \\\n",
       "0  {2020-03-09 05:30:02: 0.0, 2019-11-10 19:30:02...   \n",
       "\n",
       "  smart_End_to_End_Error_raw_value                 ...                  \\\n",
       "0                               {}                 ...                   \n",
       "\n",
       "                     smart_Seek_Error_Rate_raw_value  \\\n",
       "0  {2020-03-09 05:30:02: 0.0, 2019-11-10 19:30:02...   \n",
       "\n",
       "  smart_Spin_Retry_Count_raw_value  \\\n",
       "0                               {}   \n",
       "\n",
       "                        smart_Spin_Up_Time_raw_value  \\\n",
       "0  {2020-03-09 05:30:02: 0.0, 2019-11-10 19:30:02...   \n",
       "\n",
       "  smart_Start_Stop_Count_raw_value  \\\n",
       "0                               {}   \n",
       "\n",
       "                 smart_Temperature_Celsius_raw_value  \\\n",
       "0  {2020-03-09 05:30:02: 0.0, 2019-11-10 19:30:02...   \n",
       "\n",
       "                     smart_Total_LBAs_Read_raw_value  \\\n",
       "0  {2020-03-09 05:30:02: 0.0, 2019-11-10 19:30:02...   \n",
       "\n",
       "                smart_UDMA_CRC_Error_Count_raw_value  \\\n",
       "0  {2020-03-09 05:30:02: 0.0, 2019-11-10 19:30:02...   \n",
       "\n",
       "                   smart_Unknown_Attribute_raw_value  \\\n",
       "0  {2020-03-09 05:30:02: 25.0, 2019-11-10 19:30:0...   \n",
       "\n",
       "               smart_Unknown_SSD_Attribute_raw_value  \\\n",
       "0  {2020-03-09 05:30:02: 13522.0, 2019-11-10 19:3...   \n",
       "\n",
       "  smart_Wear_Leveling_Count_raw_value  \n",
       "0                                  {}  \n",
       "\n",
       "[1 rows x 36 columns]"
      ]
     },
     "execution_count": 20,
     "metadata": {},
     "output_type": "execute_result"
    }
   ],
   "source": [
    "df.limit(1).toPandas()"
   ]
  },
  {
   "cell_type": "markdown",
   "metadata": {},
   "source": [
    "Ahora tenemos que pegar las fechas de fallo."
   ]
  },
  {
   "cell_type": "code",
   "execution_count": 21,
   "metadata": {},
   "outputs": [
    {
     "data": {
      "text/plain": [
       "DataFrame[node: string, disk: string, start_time: string, end_time: string, capacity: string, type: string, smart_Calibration_Retry_Count_raw_value: map<timestamp,float>, smart_Command_Timeout_raw_value: map<timestamp,float>, smart_Current_Pending_Sector_raw_value: map<timestamp,float>, smart_End_to_End_Error_raw_value: map<timestamp,float>, smart_G_Sense_Error_Rate_raw_value: map<timestamp,float>, smart_Hardware_ECC_Recovered_raw_value: map<timestamp,float>, smart_High_Fly_Writes_raw_value: map<timestamp,float>, smart_Load_Cycle_Count_raw_value: map<timestamp,float>, smart_Media_Wearout_Indicator_raw_value: map<timestamp,float>, smart_Multi_Zone_Error_Rate_raw_value: map<timestamp,float>, smart_Offline_Uncorrectable_raw_value: map<timestamp,float>, smart_Power_Off_Retract_Count_raw_value: map<timestamp,float>, smart_Power_Cycle_Count_raw_value: map<timestamp,float>, smart_Power_On_Hours_raw_value: map<timestamp,float>, smart_Program_Fail_Cnt_Total_raw_value: map<timestamp,float>, smart_Raw_Read_Error_Rate_raw_value: map<timestamp,float>, smart_Reallocated_Event_Count_raw_value: map<timestamp,float>, smart_Reallocated_Sector_Ct_raw_value: map<timestamp,float>, smart_Reported_Uncorrect_raw_value: map<timestamp,float>, smart_Runtime_Bad_Block_raw_value: map<timestamp,float>, smart_Seek_Error_Rate_raw_value: map<timestamp,float>, smart_Spin_Retry_Count_raw_value: map<timestamp,float>, smart_Spin_Up_Time_raw_value: map<timestamp,float>, smart_Start_Stop_Count_raw_value: map<timestamp,float>, smart_Temperature_Celsius_raw_value: map<timestamp,float>, smart_Total_LBAs_Read_raw_value: map<timestamp,float>, smart_UDMA_CRC_Error_Count_raw_value: map<timestamp,float>, smart_Unknown_Attribute_raw_value: map<timestamp,float>, smart_Unknown_SSD_Attribute_raw_value: map<timestamp,float>, smart_Wear_Leveling_Count_raw_value: map<timestamp,float>, timestamp_fail: string]"
      ]
     },
     "execution_count": 21,
     "metadata": {},
     "output_type": "execute_result"
    }
   ],
   "source": [
    "df_labels = df_labels.groupBy(\"node\",\"disk\").agg(min('timestamp').alias('timestamp_fail'))\n",
    "df_labels = df_labels.withColumnRenamed('node', 'b_node')\n",
    "df_labels = df_labels.withColumnRenamed('disk', 'b_disk')\n",
    "df = df.join(df_labels, (df.node == df_labels.b_node) & (df.disk == df_labels.b_disk), how='left')\n",
    "df = df.drop('b_disk').drop('b_node')\n",
    "df.cache()"
   ]
  },
  {
   "cell_type": "markdown",
   "metadata": {},
   "source": [
    "Ahora vamos a cortar las series temporales hasta el día en que el disco falla."
   ]
  },
  {
   "cell_type": "code",
   "execution_count": 22,
   "metadata": {},
   "outputs": [
    {
     "data": {
      "text/html": [
       "<div>\n",
       "<style scoped>\n",
       "    .dataframe tbody tr th:only-of-type {\n",
       "        vertical-align: middle;\n",
       "    }\n",
       "\n",
       "    .dataframe tbody tr th {\n",
       "        vertical-align: top;\n",
       "    }\n",
       "\n",
       "    .dataframe thead th {\n",
       "        text-align: right;\n",
       "    }\n",
       "</style>\n",
       "<table border=\"1\" class=\"dataframe\">\n",
       "  <thead>\n",
       "    <tr style=\"text-align: right;\">\n",
       "      <th></th>\n",
       "      <th>node</th>\n",
       "      <th>disk</th>\n",
       "      <th>start_time</th>\n",
       "      <th>end_time</th>\n",
       "      <th>capacity</th>\n",
       "      <th>type</th>\n",
       "      <th>smart_Calibration_Retry_Count_raw_value</th>\n",
       "      <th>smart_Command_Timeout_raw_value</th>\n",
       "      <th>smart_Current_Pending_Sector_raw_value</th>\n",
       "      <th>smart_End_to_End_Error_raw_value</th>\n",
       "      <th>...</th>\n",
       "      <th>smart_Spin_Retry_Count_raw_value</th>\n",
       "      <th>smart_Spin_Up_Time_raw_value</th>\n",
       "      <th>smart_Start_Stop_Count_raw_value</th>\n",
       "      <th>smart_Temperature_Celsius_raw_value</th>\n",
       "      <th>smart_Total_LBAs_Read_raw_value</th>\n",
       "      <th>smart_UDMA_CRC_Error_Count_raw_value</th>\n",
       "      <th>smart_Unknown_Attribute_raw_value</th>\n",
       "      <th>smart_Unknown_SSD_Attribute_raw_value</th>\n",
       "      <th>smart_Wear_Leveling_Count_raw_value</th>\n",
       "      <th>timestamp_fail</th>\n",
       "    </tr>\n",
       "  </thead>\n",
       "  <tbody>\n",
       "    <tr>\n",
       "      <th>0</th>\n",
       "      <td>c14.11</td>\n",
       "      <td>sdl</td>\n",
       "      <td>2018-01-01 01:00:00</td>\n",
       "      <td>2021-06-01 02:00:00</td>\n",
       "      <td>None</td>\n",
       "      <td>None</td>\n",
       "      <td>{}</td>\n",
       "      <td>{2020-03-09 05:30:02: 0.0, 2019-11-10 19:30:02...</td>\n",
       "      <td>{2020-03-09 05:30:02: 0.0, 2019-11-10 19:30:02...</td>\n",
       "      <td>{}</td>\n",
       "      <td>...</td>\n",
       "      <td>{}</td>\n",
       "      <td>{2020-03-09 05:30:02: 0.0, 2019-11-10 19:30:02...</td>\n",
       "      <td>{}</td>\n",
       "      <td>{2020-03-09 05:30:02: 0.0, 2019-11-10 19:30:02...</td>\n",
       "      <td>{2020-03-09 05:30:02: 0.0, 2019-11-10 19:30:02...</td>\n",
       "      <td>{2020-03-09 05:30:02: 0.0, 2019-11-10 19:30:02...</td>\n",
       "      <td>{2020-03-09 05:30:02: 25.0, 2019-11-10 19:30:0...</td>\n",
       "      <td>{2020-03-09 05:30:02: 13522.0, 2019-11-10 19:3...</td>\n",
       "      <td>{}</td>\n",
       "      <td>2018-12-20 00:00:00</td>\n",
       "    </tr>\n",
       "  </tbody>\n",
       "</table>\n",
       "<p>1 rows × 37 columns</p>\n",
       "</div>"
      ],
      "text/plain": [
       "     node disk           start_time             end_time capacity  type  \\\n",
       "0  c14.11  sdl  2018-01-01 01:00:00  2021-06-01 02:00:00     None  None   \n",
       "\n",
       "  smart_Calibration_Retry_Count_raw_value  \\\n",
       "0                                      {}   \n",
       "\n",
       "                     smart_Command_Timeout_raw_value  \\\n",
       "0  {2020-03-09 05:30:02: 0.0, 2019-11-10 19:30:02...   \n",
       "\n",
       "              smart_Current_Pending_Sector_raw_value  \\\n",
       "0  {2020-03-09 05:30:02: 0.0, 2019-11-10 19:30:02...   \n",
       "\n",
       "  smart_End_to_End_Error_raw_value         ...           \\\n",
       "0                               {}         ...            \n",
       "\n",
       "  smart_Spin_Retry_Count_raw_value  \\\n",
       "0                               {}   \n",
       "\n",
       "                        smart_Spin_Up_Time_raw_value  \\\n",
       "0  {2020-03-09 05:30:02: 0.0, 2019-11-10 19:30:02...   \n",
       "\n",
       "  smart_Start_Stop_Count_raw_value  \\\n",
       "0                               {}   \n",
       "\n",
       "                 smart_Temperature_Celsius_raw_value  \\\n",
       "0  {2020-03-09 05:30:02: 0.0, 2019-11-10 19:30:02...   \n",
       "\n",
       "                     smart_Total_LBAs_Read_raw_value  \\\n",
       "0  {2020-03-09 05:30:02: 0.0, 2019-11-10 19:30:02...   \n",
       "\n",
       "                smart_UDMA_CRC_Error_Count_raw_value  \\\n",
       "0  {2020-03-09 05:30:02: 0.0, 2019-11-10 19:30:02...   \n",
       "\n",
       "                   smart_Unknown_Attribute_raw_value  \\\n",
       "0  {2020-03-09 05:30:02: 25.0, 2019-11-10 19:30:0...   \n",
       "\n",
       "               smart_Unknown_SSD_Attribute_raw_value  \\\n",
       "0  {2020-03-09 05:30:02: 13522.0, 2019-11-10 19:3...   \n",
       "\n",
       "  smart_Wear_Leveling_Count_raw_value       timestamp_fail  \n",
       "0                                  {}  2018-12-20 00:00:00  \n",
       "\n",
       "[1 rows x 37 columns]"
      ]
     },
     "execution_count": 22,
     "metadata": {},
     "output_type": "execute_result"
    }
   ],
   "source": [
    "df.limit(1).toPandas()"
   ]
  },
  {
   "cell_type": "code",
   "execution_count": 23,
   "metadata": {},
   "outputs": [],
   "source": [
    "def filtering_dates_dict(x,y):\n",
    "    \n",
    "    #return {k: v for k, v in x.items() if k <= (datetime.strptime(y, \"%Y-%m-%d %H:%M:%S\")+timedelta(days=-7))}\n",
    "    return {k: v for k, v in x.items() if k <= (datetime.strptime(y, \"%Y-%m-%d %H:%M:%S\"))}\n",
    "    #return {k: v for k, v in x.items() if True}\n",
    "    \n",
    "\n",
    "filtering_UDF = udf(lambda x,y: filtering_dates_dict(x,y),returnType = MapType(TimestampType(), FloatType()))\n",
    "\n",
    "columnas_initial.insert(6, df.columns[36])"
   ]
  },
  {
   "cell_type": "code",
   "execution_count": 24,
   "metadata": {},
   "outputs": [],
   "source": [
    "cols = [filtering_UDF(s,df.columns[36]) for s in df.columns[6:36]]\n",
    "cols.insert(0, df.columns[0])\n",
    "cols.insert(1, df.columns[1])\n",
    "cols.insert(2, df.columns[2])\n",
    "cols.insert(3, df.columns[3])\n",
    "cols.insert(4, df.columns[4])\n",
    "cols.insert(5, df.columns[5])\n",
    "cols.insert(6, df.columns[36])"
   ]
  },
  {
   "cell_type": "code",
   "execution_count": 25,
   "metadata": {},
   "outputs": [
    {
     "data": {
      "text/html": [
       "<div>\n",
       "<style scoped>\n",
       "    .dataframe tbody tr th:only-of-type {\n",
       "        vertical-align: middle;\n",
       "    }\n",
       "\n",
       "    .dataframe tbody tr th {\n",
       "        vertical-align: top;\n",
       "    }\n",
       "\n",
       "    .dataframe thead th {\n",
       "        text-align: right;\n",
       "    }\n",
       "</style>\n",
       "<table border=\"1\" class=\"dataframe\">\n",
       "  <thead>\n",
       "    <tr style=\"text-align: right;\">\n",
       "      <th></th>\n",
       "      <th>node</th>\n",
       "      <th>disk</th>\n",
       "      <th>start_time</th>\n",
       "      <th>end_time</th>\n",
       "      <th>capacity</th>\n",
       "      <th>type</th>\n",
       "      <th>smart_Calibration_Retry_Count_raw_value</th>\n",
       "      <th>smart_Command_Timeout_raw_value</th>\n",
       "      <th>smart_Current_Pending_Sector_raw_value</th>\n",
       "      <th>smart_End_to_End_Error_raw_value</th>\n",
       "      <th>...</th>\n",
       "      <th>smart_Spin_Retry_Count_raw_value</th>\n",
       "      <th>smart_Spin_Up_Time_raw_value</th>\n",
       "      <th>smart_Start_Stop_Count_raw_value</th>\n",
       "      <th>smart_Temperature_Celsius_raw_value</th>\n",
       "      <th>smart_Total_LBAs_Read_raw_value</th>\n",
       "      <th>smart_UDMA_CRC_Error_Count_raw_value</th>\n",
       "      <th>smart_Unknown_Attribute_raw_value</th>\n",
       "      <th>smart_Unknown_SSD_Attribute_raw_value</th>\n",
       "      <th>smart_Wear_Leveling_Count_raw_value</th>\n",
       "      <th>timestamp_fail</th>\n",
       "    </tr>\n",
       "  </thead>\n",
       "  <tbody>\n",
       "    <tr>\n",
       "      <th>0</th>\n",
       "      <td>c14.11</td>\n",
       "      <td>sdl</td>\n",
       "      <td>2018-01-01 01:00:00</td>\n",
       "      <td>2021-06-01 02:00:00</td>\n",
       "      <td>None</td>\n",
       "      <td>None</td>\n",
       "      <td>{}</td>\n",
       "      <td>{2020-03-09 05:30:02: 0.0, 2019-11-10 19:30:02...</td>\n",
       "      <td>{2020-03-09 05:30:02: 0.0, 2019-11-10 19:30:02...</td>\n",
       "      <td>{}</td>\n",
       "      <td>...</td>\n",
       "      <td>{}</td>\n",
       "      <td>{2020-03-09 05:30:02: 0.0, 2019-11-10 19:30:02...</td>\n",
       "      <td>{}</td>\n",
       "      <td>{2020-03-09 05:30:02: 0.0, 2019-11-10 19:30:02...</td>\n",
       "      <td>{2020-03-09 05:30:02: 0.0, 2019-11-10 19:30:02...</td>\n",
       "      <td>{2020-03-09 05:30:02: 0.0, 2019-11-10 19:30:02...</td>\n",
       "      <td>{2020-03-09 05:30:02: 25.0, 2019-11-10 19:30:0...</td>\n",
       "      <td>{2020-03-09 05:30:02: 13522.0, 2019-11-10 19:3...</td>\n",
       "      <td>{}</td>\n",
       "      <td>2018-12-20 00:00:00</td>\n",
       "    </tr>\n",
       "  </tbody>\n",
       "</table>\n",
       "<p>1 rows × 37 columns</p>\n",
       "</div>"
      ],
      "text/plain": [
       "     node disk           start_time             end_time capacity  type  \\\n",
       "0  c14.11  sdl  2018-01-01 01:00:00  2021-06-01 02:00:00     None  None   \n",
       "\n",
       "  smart_Calibration_Retry_Count_raw_value  \\\n",
       "0                                      {}   \n",
       "\n",
       "                     smart_Command_Timeout_raw_value  \\\n",
       "0  {2020-03-09 05:30:02: 0.0, 2019-11-10 19:30:02...   \n",
       "\n",
       "              smart_Current_Pending_Sector_raw_value  \\\n",
       "0  {2020-03-09 05:30:02: 0.0, 2019-11-10 19:30:02...   \n",
       "\n",
       "  smart_End_to_End_Error_raw_value         ...           \\\n",
       "0                               {}         ...            \n",
       "\n",
       "  smart_Spin_Retry_Count_raw_value  \\\n",
       "0                               {}   \n",
       "\n",
       "                        smart_Spin_Up_Time_raw_value  \\\n",
       "0  {2020-03-09 05:30:02: 0.0, 2019-11-10 19:30:02...   \n",
       "\n",
       "  smart_Start_Stop_Count_raw_value  \\\n",
       "0                               {}   \n",
       "\n",
       "                 smart_Temperature_Celsius_raw_value  \\\n",
       "0  {2020-03-09 05:30:02: 0.0, 2019-11-10 19:30:02...   \n",
       "\n",
       "                     smart_Total_LBAs_Read_raw_value  \\\n",
       "0  {2020-03-09 05:30:02: 0.0, 2019-11-10 19:30:02...   \n",
       "\n",
       "                smart_UDMA_CRC_Error_Count_raw_value  \\\n",
       "0  {2020-03-09 05:30:02: 0.0, 2019-11-10 19:30:02...   \n",
       "\n",
       "                   smart_Unknown_Attribute_raw_value  \\\n",
       "0  {2020-03-09 05:30:02: 25.0, 2019-11-10 19:30:0...   \n",
       "\n",
       "               smart_Unknown_SSD_Attribute_raw_value  \\\n",
       "0  {2020-03-09 05:30:02: 13522.0, 2019-11-10 19:3...   \n",
       "\n",
       "  smart_Wear_Leveling_Count_raw_value       timestamp_fail  \n",
       "0                                  {}  2018-12-20 00:00:00  \n",
       "\n",
       "[1 rows x 37 columns]"
      ]
     },
     "execution_count": 25,
     "metadata": {},
     "output_type": "execute_result"
    }
   ],
   "source": [
    "df.limit(1).toPandas()"
   ]
  },
  {
   "cell_type": "code",
   "execution_count": 26,
   "metadata": {},
   "outputs": [
    {
     "data": {
      "text/plain": [
       "DataFrame[node: string, disk: string, start_time: string, end_time: string, capacity: string, type: string, timestamp_fail: string, smart_Calibration_Retry_Count_raw_value: map<timestamp,float>, smart_Command_Timeout_raw_value: map<timestamp,float>, smart_Current_Pending_Sector_raw_value: map<timestamp,float>, smart_End_to_End_Error_raw_value: map<timestamp,float>, smart_G_Sense_Error_Rate_raw_value: map<timestamp,float>, smart_Hardware_ECC_Recovered_raw_value: map<timestamp,float>, smart_High_Fly_Writes_raw_value: map<timestamp,float>, smart_Load_Cycle_Count_raw_value: map<timestamp,float>, smart_Media_Wearout_Indicator_raw_value: map<timestamp,float>, smart_Multi_Zone_Error_Rate_raw_value: map<timestamp,float>, smart_Offline_Uncorrectable_raw_value: map<timestamp,float>, smart_Power_Off_Retract_Count_raw_value: map<timestamp,float>, smart_Power_Cycle_Count_raw_value: map<timestamp,float>, smart_Power_On_Hours_raw_value: map<timestamp,float>, smart_Program_Fail_Cnt_Total_raw_value: map<timestamp,float>, smart_Raw_Read_Error_Rate_raw_value: map<timestamp,float>, smart_Reallocated_Event_Count_raw_value: map<timestamp,float>, smart_Reallocated_Sector_Ct_raw_value: map<timestamp,float>, smart_Reported_Uncorrect_raw_value: map<timestamp,float>, smart_Runtime_Bad_Block_raw_value: map<timestamp,float>, smart_Seek_Error_Rate_raw_value: map<timestamp,float>, smart_Spin_Retry_Count_raw_value: map<timestamp,float>, smart_Spin_Up_Time_raw_value: map<timestamp,float>, smart_Start_Stop_Count_raw_value: map<timestamp,float>, smart_Temperature_Celsius_raw_value: map<timestamp,float>, smart_Total_LBAs_Read_raw_value: map<timestamp,float>, smart_UDMA_CRC_Error_Count_raw_value: map<timestamp,float>, smart_Unknown_Attribute_raw_value: map<timestamp,float>, smart_Unknown_SSD_Attribute_raw_value: map<timestamp,float>, smart_Wear_Leveling_Count_raw_value: map<timestamp,float>]"
      ]
     },
     "execution_count": 26,
     "metadata": {},
     "output_type": "execute_result"
    }
   ],
   "source": [
    "df = df.select(*cols)\n",
    "df = df.toDF(*columnas_initial)\n",
    "df.cache()"
   ]
  },
  {
   "cell_type": "code",
   "execution_count": 27,
   "metadata": {},
   "outputs": [
    {
     "data": {
      "text/html": [
       "<div>\n",
       "<style scoped>\n",
       "    .dataframe tbody tr th:only-of-type {\n",
       "        vertical-align: middle;\n",
       "    }\n",
       "\n",
       "    .dataframe tbody tr th {\n",
       "        vertical-align: top;\n",
       "    }\n",
       "\n",
       "    .dataframe thead th {\n",
       "        text-align: right;\n",
       "    }\n",
       "</style>\n",
       "<table border=\"1\" class=\"dataframe\">\n",
       "  <thead>\n",
       "    <tr style=\"text-align: right;\">\n",
       "      <th></th>\n",
       "      <th>node</th>\n",
       "      <th>disk</th>\n",
       "      <th>start_time</th>\n",
       "      <th>end_time</th>\n",
       "      <th>capacity</th>\n",
       "      <th>type</th>\n",
       "      <th>timestamp_fail</th>\n",
       "      <th>smart_Calibration_Retry_Count_raw_value</th>\n",
       "      <th>smart_Command_Timeout_raw_value</th>\n",
       "      <th>smart_Current_Pending_Sector_raw_value</th>\n",
       "      <th>...</th>\n",
       "      <th>smart_Seek_Error_Rate_raw_value</th>\n",
       "      <th>smart_Spin_Retry_Count_raw_value</th>\n",
       "      <th>smart_Spin_Up_Time_raw_value</th>\n",
       "      <th>smart_Start_Stop_Count_raw_value</th>\n",
       "      <th>smart_Temperature_Celsius_raw_value</th>\n",
       "      <th>smart_Total_LBAs_Read_raw_value</th>\n",
       "      <th>smart_UDMA_CRC_Error_Count_raw_value</th>\n",
       "      <th>smart_Unknown_Attribute_raw_value</th>\n",
       "      <th>smart_Unknown_SSD_Attribute_raw_value</th>\n",
       "      <th>smart_Wear_Leveling_Count_raw_value</th>\n",
       "    </tr>\n",
       "  </thead>\n",
       "  <tbody>\n",
       "    <tr>\n",
       "      <th>0</th>\n",
       "      <td>c14.11</td>\n",
       "      <td>sdl</td>\n",
       "      <td>2018-01-01 01:00:00</td>\n",
       "      <td>2021-06-01 02:00:00</td>\n",
       "      <td>None</td>\n",
       "      <td>None</td>\n",
       "      <td>2018-12-20 00:00:00</td>\n",
       "      <td>{}</td>\n",
       "      <td>{2018-05-01 13:30:02: 0.0, 2018-11-27 04:30:02...</td>\n",
       "      <td>{2018-05-01 13:30:02: 0.0, 2018-11-27 04:30:02...</td>\n",
       "      <td>...</td>\n",
       "      <td>{2018-05-01 13:30:02: 0.0, 2018-11-27 04:30:02...</td>\n",
       "      <td>{}</td>\n",
       "      <td>{2018-05-01 13:30:02: 0.0, 2018-11-27 04:30:02...</td>\n",
       "      <td>{}</td>\n",
       "      <td>{2018-05-01 13:30:02: 0.0, 2018-11-27 04:30:02...</td>\n",
       "      <td>{2018-05-01 13:30:02: 0.0, 2018-11-27 04:30:02...</td>\n",
       "      <td>{2018-05-01 13:30:02: 0.0, 2018-11-27 04:30:02...</td>\n",
       "      <td>{2018-05-01 13:30:02: 24.0, 2018-11-27 04:30:0...</td>\n",
       "      <td>{2018-05-01 13:30:02: 3166.0, 2018-11-27 04:30...</td>\n",
       "      <td>{}</td>\n",
       "    </tr>\n",
       "  </tbody>\n",
       "</table>\n",
       "<p>1 rows × 37 columns</p>\n",
       "</div>"
      ],
      "text/plain": [
       "     node disk           start_time             end_time capacity  type  \\\n",
       "0  c14.11  sdl  2018-01-01 01:00:00  2021-06-01 02:00:00     None  None   \n",
       "\n",
       "        timestamp_fail smart_Calibration_Retry_Count_raw_value  \\\n",
       "0  2018-12-20 00:00:00                                      {}   \n",
       "\n",
       "                     smart_Command_Timeout_raw_value  \\\n",
       "0  {2018-05-01 13:30:02: 0.0, 2018-11-27 04:30:02...   \n",
       "\n",
       "              smart_Current_Pending_Sector_raw_value  \\\n",
       "0  {2018-05-01 13:30:02: 0.0, 2018-11-27 04:30:02...   \n",
       "\n",
       "                  ...                  \\\n",
       "0                 ...                   \n",
       "\n",
       "                     smart_Seek_Error_Rate_raw_value  \\\n",
       "0  {2018-05-01 13:30:02: 0.0, 2018-11-27 04:30:02...   \n",
       "\n",
       "  smart_Spin_Retry_Count_raw_value  \\\n",
       "0                               {}   \n",
       "\n",
       "                        smart_Spin_Up_Time_raw_value  \\\n",
       "0  {2018-05-01 13:30:02: 0.0, 2018-11-27 04:30:02...   \n",
       "\n",
       "  smart_Start_Stop_Count_raw_value  \\\n",
       "0                               {}   \n",
       "\n",
       "                 smart_Temperature_Celsius_raw_value  \\\n",
       "0  {2018-05-01 13:30:02: 0.0, 2018-11-27 04:30:02...   \n",
       "\n",
       "                     smart_Total_LBAs_Read_raw_value  \\\n",
       "0  {2018-05-01 13:30:02: 0.0, 2018-11-27 04:30:02...   \n",
       "\n",
       "                smart_UDMA_CRC_Error_Count_raw_value  \\\n",
       "0  {2018-05-01 13:30:02: 0.0, 2018-11-27 04:30:02...   \n",
       "\n",
       "                   smart_Unknown_Attribute_raw_value  \\\n",
       "0  {2018-05-01 13:30:02: 24.0, 2018-11-27 04:30:0...   \n",
       "\n",
       "               smart_Unknown_SSD_Attribute_raw_value  \\\n",
       "0  {2018-05-01 13:30:02: 3166.0, 2018-11-27 04:30...   \n",
       "\n",
       "  smart_Wear_Leveling_Count_raw_value  \n",
       "0                                  {}  \n",
       "\n",
       "[1 rows x 37 columns]"
      ]
     },
     "execution_count": 27,
     "metadata": {},
     "output_type": "execute_result"
    }
   ],
   "source": [
    "df.limit(1).toPandas()"
   ]
  },
  {
   "cell_type": "code",
   "execution_count": 28,
   "metadata": {},
   "outputs": [
    {
     "data": {
      "text/plain": [
       "DataFrame[node: string, disk: string, start_time: string, end_time: string, capacity: string, type: string, timestamp_fail: string, smart_Calibration_Retry_Count_raw_value: map<timestamp,float>, smart_Command_Timeout_raw_value: map<timestamp,float>, smart_Current_Pending_Sector_raw_value: map<timestamp,float>, smart_End_to_End_Error_raw_value: map<timestamp,float>, smart_G_Sense_Error_Rate_raw_value: map<timestamp,float>, smart_Hardware_ECC_Recovered_raw_value: map<timestamp,float>, smart_High_Fly_Writes_raw_value: map<timestamp,float>, smart_Load_Cycle_Count_raw_value: map<timestamp,float>, smart_Media_Wearout_Indicator_raw_value: map<timestamp,float>, smart_Multi_Zone_Error_Rate_raw_value: map<timestamp,float>, smart_Offline_Uncorrectable_raw_value: map<timestamp,float>, smart_Power_Off_Retract_Count_raw_value: map<timestamp,float>, smart_Power_Cycle_Count_raw_value: map<timestamp,float>, smart_Power_On_Hours_raw_value: map<timestamp,float>, smart_Program_Fail_Cnt_Total_raw_value: map<timestamp,float>, smart_Raw_Read_Error_Rate_raw_value: map<timestamp,float>, smart_Reallocated_Event_Count_raw_value: map<timestamp,float>, smart_Reallocated_Sector_Ct_raw_value: map<timestamp,float>, smart_Reported_Uncorrect_raw_value: map<timestamp,float>, smart_Runtime_Bad_Block_raw_value: map<timestamp,float>, smart_Seek_Error_Rate_raw_value: map<timestamp,float>, smart_Spin_Retry_Count_raw_value: map<timestamp,float>, smart_Spin_Up_Time_raw_value: map<timestamp,float>, smart_Start_Stop_Count_raw_value: map<timestamp,float>, smart_Temperature_Celsius_raw_value: map<timestamp,float>, smart_Total_LBAs_Read_raw_value: map<timestamp,float>, smart_UDMA_CRC_Error_Count_raw_value: map<timestamp,float>, smart_Unknown_Attribute_raw_value: map<timestamp,float>, smart_Unknown_SSD_Attribute_raw_value: map<timestamp,float>, smart_Wear_Leveling_Count_raw_value: map<timestamp,float>]"
      ]
     },
     "execution_count": 28,
     "metadata": {},
     "output_type": "execute_result"
    }
   ],
   "source": [
    "df.cache()"
   ]
  },
  {
   "cell_type": "code",
   "execution_count": 29,
   "metadata": {},
   "outputs": [
    {
     "data": {
      "text/plain": [
       "DataFrame[node: string, disk: string, start_time: string, end_time: string, capacity: string, type: string, timestamp_fail: string, datetime: timestamp, smart_Command_Timeout_raw_value: float, smart_Current_Pending_Sector_raw_value: float, smart_End_to_End_Error_raw_value: float, smart_G_Sense_Error_Rate_raw_value: float, smart_Hardware_ECC_Recovered_raw_value: float, smart_High_Fly_Writes_raw_value: float, smart_Load_Cycle_Count_raw_value: float, smart_Media_Wearout_Indicator_raw_value: float, smart_Multi_Zone_Error_Rate_raw_value: float, smart_Offline_Uncorrectable_raw_value: float, smart_Power_Off_Retract_Count_raw_value: float, smart_Power_Cycle_Count_raw_value: float, smart_Power_On_Hours_raw_value: float, smart_Program_Fail_Cnt_Total_raw_value: float, smart_Raw_Read_Error_Rate_raw_value: float, smart_Reallocated_Event_Count_raw_value: float, smart_Reallocated_Sector_Ct_raw_value: float, smart_Reported_Uncorrect_raw_value: float, smart_Runtime_Bad_Block_raw_value: float, smart_Seek_Error_Rate_raw_value: float, smart_Spin_Retry_Count_raw_value: float, smart_Spin_Up_Time_raw_value: float, smart_Start_Stop_Count_raw_value: float, smart_Temperature_Celsius_raw_value: float, smart_Total_LBAs_Read_raw_value: float, smart_UDMA_CRC_Error_Count_raw_value: float, smart_Unknown_Attribute_raw_value: float, smart_Unknown_SSD_Attribute_raw_value: float, smart_Wear_Leveling_Count_raw_value: float]"
      ]
     },
     "execution_count": 29,
     "metadata": {},
     "output_type": "execute_result"
    }
   ],
   "source": [
    "toexplode = df.columns[9:]\n",
    "res = df.select('node','disk', 'start_time','end_time',\n",
    "                'capacity', 'type','timestamp_fail',explode(df.columns[8]).alias(\"datetime\", df.columns[8]))\n",
    "\n",
    "for i in toexplode:\n",
    "    ddf = df.select(df.node.alias('node_b'),df.disk.alias('disk_b'),explode(i).alias(\"datetime_b\", i))\n",
    "    res = res.join(ddf, (ddf.node_b == res.node) & (ddf.disk_b == res.disk)& (ddf.datetime_b == res.datetime), how='outer')\n",
    "    res = res.drop('node_b','disk_b')\n",
    "    res = res.withColumn('datetime',coalesce(res.datetime,res.datetime_b))\n",
    "    res = res.drop('datetime_b')\n",
    "res.cache()"
   ]
  },
  {
   "cell_type": "code",
   "execution_count": 30,
   "metadata": {},
   "outputs": [
    {
     "data": {
      "text/plain": [
       "3067082"
      ]
     },
     "execution_count": 30,
     "metadata": {},
     "output_type": "execute_result"
    }
   ],
   "source": [
    "res.count()"
   ]
  },
  {
   "cell_type": "code",
   "execution_count": 31,
   "metadata": {
    "scrolled": true
   },
   "outputs": [
    {
     "data": {
      "text/html": [
       "<div>\n",
       "<style scoped>\n",
       "    .dataframe tbody tr th:only-of-type {\n",
       "        vertical-align: middle;\n",
       "    }\n",
       "\n",
       "    .dataframe tbody tr th {\n",
       "        vertical-align: top;\n",
       "    }\n",
       "\n",
       "    .dataframe thead th {\n",
       "        text-align: right;\n",
       "    }\n",
       "</style>\n",
       "<table border=\"1\" class=\"dataframe\">\n",
       "  <thead>\n",
       "    <tr style=\"text-align: right;\">\n",
       "      <th></th>\n",
       "      <th>node</th>\n",
       "      <th>disk</th>\n",
       "      <th>start_time</th>\n",
       "      <th>end_time</th>\n",
       "      <th>capacity</th>\n",
       "      <th>type</th>\n",
       "      <th>timestamp_fail</th>\n",
       "      <th>datetime</th>\n",
       "      <th>smart_Command_Timeout_raw_value</th>\n",
       "      <th>smart_Current_Pending_Sector_raw_value</th>\n",
       "      <th>...</th>\n",
       "      <th>smart_Seek_Error_Rate_raw_value</th>\n",
       "      <th>smart_Spin_Retry_Count_raw_value</th>\n",
       "      <th>smart_Spin_Up_Time_raw_value</th>\n",
       "      <th>smart_Start_Stop_Count_raw_value</th>\n",
       "      <th>smart_Temperature_Celsius_raw_value</th>\n",
       "      <th>smart_Total_LBAs_Read_raw_value</th>\n",
       "      <th>smart_UDMA_CRC_Error_Count_raw_value</th>\n",
       "      <th>smart_Unknown_Attribute_raw_value</th>\n",
       "      <th>smart_Unknown_SSD_Attribute_raw_value</th>\n",
       "      <th>smart_Wear_Leveling_Count_raw_value</th>\n",
       "    </tr>\n",
       "  </thead>\n",
       "  <tbody>\n",
       "    <tr>\n",
       "      <th>0</th>\n",
       "      <td>c13.1</td>\n",
       "      <td>sdb</td>\n",
       "      <td>2018-01-01 01:00:00</td>\n",
       "      <td>2021-06-01 02:00:00</td>\n",
       "      <td>1.8T</td>\n",
       "      <td>WDC WD2003FZEX-0</td>\n",
       "      <td>2020-04-02 00:00:00</td>\n",
       "      <td>2018-01-26 21:15:01</td>\n",
       "      <td>0.0</td>\n",
       "      <td>1.0</td>\n",
       "      <td>...</td>\n",
       "      <td>0.0</td>\n",
       "      <td>NaN</td>\n",
       "      <td>11.0</td>\n",
       "      <td>NaN</td>\n",
       "      <td>0.0</td>\n",
       "      <td>0.0</td>\n",
       "      <td>0.0</td>\n",
       "      <td>24.0</td>\n",
       "      <td>13251.0</td>\n",
       "      <td>NaN</td>\n",
       "    </tr>\n",
       "  </tbody>\n",
       "</table>\n",
       "<p>1 rows × 37 columns</p>\n",
       "</div>"
      ],
      "text/plain": [
       "    node disk           start_time             end_time capacity  \\\n",
       "0  c13.1  sdb  2018-01-01 01:00:00  2021-06-01 02:00:00     1.8T   \n",
       "\n",
       "               type       timestamp_fail            datetime  \\\n",
       "0  WDC WD2003FZEX-0  2020-04-02 00:00:00 2018-01-26 21:15:01   \n",
       "\n",
       "   smart_Command_Timeout_raw_value  smart_Current_Pending_Sector_raw_value  \\\n",
       "0                              0.0                                     1.0   \n",
       "\n",
       "                  ...                   smart_Seek_Error_Rate_raw_value  \\\n",
       "0                 ...                                               0.0   \n",
       "\n",
       "   smart_Spin_Retry_Count_raw_value  smart_Spin_Up_Time_raw_value  \\\n",
       "0                               NaN                          11.0   \n",
       "\n",
       "   smart_Start_Stop_Count_raw_value  smart_Temperature_Celsius_raw_value  \\\n",
       "0                               NaN                                  0.0   \n",
       "\n",
       "   smart_Total_LBAs_Read_raw_value  smart_UDMA_CRC_Error_Count_raw_value  \\\n",
       "0                              0.0                                   0.0   \n",
       "\n",
       "   smart_Unknown_Attribute_raw_value  smart_Unknown_SSD_Attribute_raw_value  \\\n",
       "0                               24.0                                13251.0   \n",
       "\n",
       "   smart_Wear_Leveling_Count_raw_value  \n",
       "0                                  NaN  \n",
       "\n",
       "[1 rows x 37 columns]"
      ]
     },
     "execution_count": 31,
     "metadata": {},
     "output_type": "execute_result"
    }
   ],
   "source": [
    "res.limit(1).toPandas()"
   ]
  },
  {
   "cell_type": "code",
   "execution_count": 32,
   "metadata": {},
   "outputs": [],
   "source": [
    "res = res.drop('start_time','end_time')"
   ]
  },
  {
   "cell_type": "code",
   "execution_count": 33,
   "metadata": {},
   "outputs": [
    {
     "name": "stdout",
     "output_type": "stream",
     "text": [
      "+------+----+--------+-----------+-------------------+-------------------+-------------------------------+\n",
      "|  node|disk|capacity|       type|     timestamp_fail|           datetime|smart_Command_Timeout_raw_value|\n",
      "+------+----+--------+-----------+-------------------+-------------------+-------------------------------+\n",
      "|c13.14| sdd|    1.8T|MG04ACA200N|2018-06-15 00:00:00|2018-03-16 03:30:01|                           12.0|\n",
      "|c13.14| sdd|    1.8T|MG04ACA200N|2018-06-15 00:00:00|2018-03-16 17:00:01|                           12.0|\n",
      "|c13.14| sdd|    1.8T|MG04ACA200N|2018-06-15 00:00:00|2018-03-17 05:15:01|                           12.0|\n",
      "|c13.14| sdd|    1.8T|MG04ACA200N|2018-06-15 00:00:00|2018-03-19 03:45:01|                           12.0|\n",
      "|c13.14| sdd|    1.8T|MG04ACA200N|2018-06-15 00:00:00|2018-04-21 23:00:01|                           30.0|\n",
      "|c13.14| sdd|    1.8T|MG04ACA200N|2018-06-15 00:00:00|2018-04-24 13:45:01|                           30.0|\n",
      "|c13.14| sdd|    1.8T|MG04ACA200N|2018-06-15 00:00:00|2018-04-24 15:00:01|                           30.0|\n",
      "|c13.14| sdd|    1.8T|MG04ACA200N|2018-06-15 00:00:00|2018-04-24 23:45:01|                           30.0|\n",
      "|c13.14| sdd|    1.8T|MG04ACA200N|2018-06-15 00:00:00|2018-04-25 10:15:01|                           30.0|\n",
      "|c13.14| sdd|    1.8T|MG04ACA200N|2018-06-15 00:00:00|2018-04-25 13:00:01|                           30.0|\n",
      "+------+----+--------+-----------+-------------------+-------------------+-------------------------------+\n",
      "\n"
     ]
    }
   ],
   "source": [
    "res.where('smart_Command_Timeout_raw_value != 0').select(res.columns[:7]).limit(10).show()"
   ]
  },
  {
   "cell_type": "code",
   "execution_count": 30,
   "metadata": {},
   "outputs": [],
   "source": [
    "yyy = ['smart_Command_Timeout_raw_value',\n",
    "'smart_Current_Pending_Sector_raw_value',\n",
    "'smart_High_Fly_Writes_raw_value',\n",
    "'smart_Media_Wearout_Indicator_raw_value',\n",
    "'smart_Offline_Uncorrectable_raw_value' ,\n",
    "'smart_Power_Off_Retract_Count_raw_value' ,\n",
    "'smart_Power_Cycle_Count_raw_value',\n",
    "'smart_Program_Fail_Cnt_Total_raw_value',\n",
    "'smart_Raw_Read_Error_Rate_raw_value',\n",
    "'smart_Reallocated_Event_Count_raw_value',\n",
    "'smart_Reallocated_Sector_Ct_raw_value',\n",
    "'smart_Reported_Uncorrect_raw_value',\n",
    "'smart_Runtime_Bad_Block_raw_value',\n",
    "'smart_Seek_Error_Rate_raw_value',\n",
    "'smart_Spin_Up_Time_raw_value',\n",
    "'smart_Temperature_Celsius_raw_value',\n",
    "'smart_Total_LBAs_Read_raw_value' ,\n",
    "'smart_UDMA_CRC_Error_Count_raw_value' ,\n",
    "'smart_Unknown_Attribute_raw_value',\n",
    "'smart_Unknown_SSD_Attribute_raw_value'  ]"
   ]
  },
  {
   "cell_type": "code",
   "execution_count": 67,
   "metadata": {
    "scrolled": true
   },
   "outputs": [
    {
     "data": {
      "text/plain": [
       "<matplotlib.lines.Line2D at 0x7f498a0825d0>"
      ]
     },
     "execution_count": 67,
     "metadata": {},
     "output_type": "execute_result"
    },
    {
     "data": {
      "image/png": "[encoded data removed]",
      "text/plain": [
       "<Figure size 2160x2160 with 36 Axes>"
      ]
     },
     "metadata": {
      "needs_background": "light"
     },
     "output_type": "display_data"
    }
   ],
   "source": [
    "ppp.plot(x='datetime', y=yyy, subplots=True, layout=(6,6), figsize=(30,30))\n",
    "plt.axvline(x='2020-04-07 00:00:00', color='r', linestyle='dashed')"
   ]
  },
  {
   "cell_type": "code",
   "execution_count": null,
   "metadata": {},
   "outputs": [],
   "source": [
    "import matplotlib.pyplot as plt\n",
    "rowws =[0,1,2,3,4]\n",
    "colls =[0,1,2,3]\n",
    "\n",
    "fig, axes = plt.subplots(nrows=5, ncols=4, figsize = (30,30))\n",
    "fig.set_figheight(20)\n",
    "fig.set_figwidth(20)\n",
    "plt.rcParams['font.size'] = '8'\n",
    "plt.rcParams['axes.labelsize'] = '8'\n",
    "\n",
    "cc=0 \n",
    "for i in rowws:\n",
    "    for j in colls:\n",
    "    \n",
    "    \n",
    "        ppp.plot(ax=axes[i,j], x='datetime', y=yyy[cc])\n",
    "        axes[i,j].axvline(x='2020-04-02 00:00:00', color='r', linestyle='dashed')\n",
    "        \n",
    "        cc=cc+1\n",
    "plt.savefig(\"plots2.pdf\")"
   ]
  },
  {
   "cell_type": "code",
   "execution_count": 34,
   "metadata": {},
   "outputs": [
    {
     "data": {
      "text/plain": [
       "3067082"
      ]
     },
     "execution_count": 34,
     "metadata": {},
     "output_type": "execute_result"
    }
   ],
   "source": [
    "res.count()"
   ]
  },
  {
   "cell_type": "code",
   "execution_count": 35,
   "metadata": {},
   "outputs": [],
   "source": [
    "res = res.where('type = \"WDC WD2003FZEX-0\"')"
   ]
  },
  {
   "cell_type": "code",
   "execution_count": 36,
   "metadata": {},
   "outputs": [
    {
     "data": {
      "text/plain": [
       "1609317"
      ]
     },
     "execution_count": 36,
     "metadata": {},
     "output_type": "execute_result"
    }
   ],
   "source": [
    "res.count()"
   ]
  },
  {
   "cell_type": "code",
   "execution_count": 37,
   "metadata": {},
   "outputs": [
    {
     "data": {
      "text/plain": [
       "0.47529378086402646"
      ]
     },
     "execution_count": 37,
     "metadata": {},
     "output_type": "execute_result"
    }
   ],
   "source": [
    "(float(3067082)-float(1609317))/float(3067082)"
   ]
  },
  {
   "cell_type": "markdown",
   "metadata": {},
   "source": [
    "Ahora si vamos a ver los NaNs"
   ]
  },
  {
   "cell_type": "code",
   "execution_count": 38,
   "metadata": {},
   "outputs": [
    {
     "name": "stdout",
     "output_type": "stream",
     "text": [
      "smart_Command_Timeout_raw_value : 1609317\n",
      "smart_Current_Pending_Sector_raw_value : 1609317\n",
      "smart_End_to_End_Error_raw_value : 0\n",
      "smart_G_Sense_Error_Rate_raw_value : 0\n",
      "smart_Hardware_ECC_Recovered_raw_value : 0\n",
      "smart_High_Fly_Writes_raw_value : 1609115\n",
      "smart_Load_Cycle_Count_raw_value : 0\n",
      "smart_Media_Wearout_Indicator_raw_value : 1609317\n",
      "smart_Multi_Zone_Error_Rate_raw_value : 0\n",
      "smart_Offline_Uncorrectable_raw_value : 1609317\n",
      "smart_Power_Off_Retract_Count_raw_value : 1609317\n",
      "smart_Power_Cycle_Count_raw_value : 1609317\n",
      "smart_Power_On_Hours_raw_value : 0\n",
      "smart_Program_Fail_Cnt_Total_raw_value : 1609317\n",
      "smart_Raw_Read_Error_Rate_raw_value : 1609317\n",
      "smart_Reallocated_Event_Count_raw_value : 1609317\n",
      "smart_Reallocated_Sector_Ct_raw_value : 1609317\n",
      "smart_Reported_Uncorrect_raw_value : 1609317\n",
      "smart_Runtime_Bad_Block_raw_value : 1609317\n",
      "smart_Seek_Error_Rate_raw_value : 1609115\n",
      "smart_Spin_Retry_Count_raw_value : 0\n",
      "smart_Spin_Up_Time_raw_value : 1609317\n",
      "smart_Start_Stop_Count_raw_value : 0\n",
      "smart_Temperature_Celsius_raw_value : 1609115\n",
      "smart_Total_LBAs_Read_raw_value : 1609317\n",
      "smart_UDMA_CRC_Error_Count_raw_value : 1609317\n",
      "smart_Unknown_Attribute_raw_value : 1609317\n",
      "smart_Unknown_SSD_Attribute_raw_value : 1609317\n",
      "smart_Wear_Leveling_Count_raw_value : 0\n"
     ]
    }
   ],
   "source": [
    "siemprenulos = []\n",
    "for i,j in zip(map(lambda x: x+' is not null',res.columns[6:35]),res.columns[6:35]) :\n",
    "    cuenta = res.where(i).count()\n",
    "    print j + ' : ' + str(cuenta)\n",
    "    if cuenta == 0:\n",
    "        siemprenulos.append(j)"
   ]
  },
  {
   "cell_type": "code",
   "execution_count": 39,
   "metadata": {},
   "outputs": [
    {
     "data": {
      "text/plain": [
       "['smart_End_to_End_Error_raw_value',\n",
       " 'smart_G_Sense_Error_Rate_raw_value',\n",
       " 'smart_Hardware_ECC_Recovered_raw_value',\n",
       " 'smart_Load_Cycle_Count_raw_value',\n",
       " 'smart_Multi_Zone_Error_Rate_raw_value',\n",
       " 'smart_Power_On_Hours_raw_value',\n",
       " 'smart_Spin_Retry_Count_raw_value',\n",
       " 'smart_Start_Stop_Count_raw_value',\n",
       " 'smart_Wear_Leveling_Count_raw_value']"
      ]
     },
     "execution_count": 39,
     "metadata": {},
     "output_type": "execute_result"
    }
   ],
   "source": [
    "siemprenulos"
   ]
  },
  {
   "cell_type": "code",
   "execution_count": 40,
   "metadata": {},
   "outputs": [],
   "source": [
    "res = res.drop(*siemprenulos)"
   ]
  },
  {
   "cell_type": "code",
   "execution_count": 41,
   "metadata": {},
   "outputs": [],
   "source": [
    "res = res.na.drop()"
   ]
  },
  {
   "cell_type": "code",
   "execution_count": 42,
   "metadata": {},
   "outputs": [
    {
     "data": {
      "text/plain": [
       "1609115"
      ]
     },
     "execution_count": 42,
     "metadata": {},
     "output_type": "execute_result"
    }
   ],
   "source": [
    "res.count()"
   ]
  },
  {
   "cell_type": "code",
   "execution_count": 43,
   "metadata": {},
   "outputs": [],
   "source": [
    "def adding_labels(real, fail, lag):\n",
    "    real = datetime.strptime(str(real), \"%Y-%m-%d %H:%M:%S\")\n",
    "    fail = datetime.strptime(str(fail), \"%Y-%m-%d %H:%M:%S\")\n",
    "    \n",
    "    #if real>=fail+timedelta(days=-7) and real<=fail:\n",
    "    #if real>=fail+timedelta(days=-2) and real<=fail:\n",
    "    if real>=fail+timedelta(days=-lag) and real<=fail:\n",
    "        return 1 #falla\n",
    "    else:\n",
    "        return 0 #nofalla"
   ]
  },
  {
   "cell_type": "code",
   "execution_count": 44,
   "metadata": {},
   "outputs": [
    {
     "data": {
      "text/plain": [
       "0"
      ]
     },
     "execution_count": 44,
     "metadata": {},
     "output_type": "execute_result"
    }
   ],
   "source": [
    "adding_labels('2020-04-02 00:00:00', '2018-01-26 21:15:01')"
   ]
  },
  {
   "cell_type": "code",
   "execution_count": 45,
   "metadata": {},
   "outputs": [],
   "source": [
    "adding_labels_UDF = udf(lambda x,y,z: adding_labels(x,y,z),StringType())"
   ]
  },
  {
   "cell_type": "code",
   "execution_count": 46,
   "metadata": {},
   "outputs": [],
   "source": [
    "lag = 7\n",
    "res = res.withColumn('label',adding_labels_UDF(res.datetime,res.timestamp_fail, lag))"
   ]
  },
  {
   "cell_type": "code",
   "execution_count": 47,
   "metadata": {},
   "outputs": [],
   "source": [
    "res.createOrReplaceTempView(\"data2\")"
   ]
  },
  {
   "cell_type": "code",
   "execution_count": 48,
   "metadata": {},
   "outputs": [
    {
     "name": "stdout",
     "output_type": "stream",
     "text": [
      "+--------+\n",
      "|count(1)|\n",
      "+--------+\n",
      "|    1920|\n",
      "+--------+\n",
      "\n"
     ]
    }
   ],
   "source": [
    "spark.sql(\"SELECT COUNT(*) FROM data2 WHERE LABEL=1\").show()"
   ]
  },
  {
   "cell_type": "code",
   "execution_count": 49,
   "metadata": {
    "scrolled": true
   },
   "outputs": [
    {
     "name": "stdout",
     "output_type": "stream",
     "text": [
      "+--------+\n",
      "|count(1)|\n",
      "+--------+\n",
      "| 1607195|\n",
      "+--------+\n",
      "\n"
     ]
    }
   ],
   "source": [
    "spark.sql(\"SELECT COUNT(*) FROM data2 WHERE LABEL=0\").show()"
   ]
  },
  {
   "cell_type": "code",
   "execution_count": 50,
   "metadata": {},
   "outputs": [
    {
     "data": {
      "text/plain": [
       "0.002439572912766579"
      ]
     },
     "execution_count": 50,
     "metadata": {},
     "output_type": "execute_result"
    }
   ],
   "source": [
    "float(3916)/float(1605199)"
   ]
  },
  {
   "cell_type": "code",
   "execution_count": 51,
   "metadata": {},
   "outputs": [
    {
     "data": {
      "text/html": [
       "<div>\n",
       "<style scoped>\n",
       "    .dataframe tbody tr th:only-of-type {\n",
       "        vertical-align: middle;\n",
       "    }\n",
       "\n",
       "    .dataframe tbody tr th {\n",
       "        vertical-align: top;\n",
       "    }\n",
       "\n",
       "    .dataframe thead th {\n",
       "        text-align: right;\n",
       "    }\n",
       "</style>\n",
       "<table border=\"1\" class=\"dataframe\">\n",
       "  <thead>\n",
       "    <tr style=\"text-align: right;\">\n",
       "      <th></th>\n",
       "      <th>node</th>\n",
       "      <th>disk</th>\n",
       "      <th>capacity</th>\n",
       "      <th>type</th>\n",
       "      <th>timestamp_fail</th>\n",
       "      <th>datetime</th>\n",
       "      <th>smart_Command_Timeout_raw_value</th>\n",
       "      <th>smart_Current_Pending_Sector_raw_value</th>\n",
       "      <th>smart_High_Fly_Writes_raw_value</th>\n",
       "      <th>smart_Media_Wearout_Indicator_raw_value</th>\n",
       "      <th>...</th>\n",
       "      <th>smart_Reported_Uncorrect_raw_value</th>\n",
       "      <th>smart_Runtime_Bad_Block_raw_value</th>\n",
       "      <th>smart_Seek_Error_Rate_raw_value</th>\n",
       "      <th>smart_Spin_Up_Time_raw_value</th>\n",
       "      <th>smart_Temperature_Celsius_raw_value</th>\n",
       "      <th>smart_Total_LBAs_Read_raw_value</th>\n",
       "      <th>smart_UDMA_CRC_Error_Count_raw_value</th>\n",
       "      <th>smart_Unknown_Attribute_raw_value</th>\n",
       "      <th>smart_Unknown_SSD_Attribute_raw_value</th>\n",
       "      <th>label</th>\n",
       "    </tr>\n",
       "  </thead>\n",
       "  <tbody>\n",
       "  </tbody>\n",
       "</table>\n",
       "<p>0 rows × 27 columns</p>\n",
       "</div>"
      ],
      "text/plain": [
       "Empty DataFrame\n",
       "Columns: [node, disk, capacity, type, timestamp_fail, datetime, smart_Command_Timeout_raw_value, smart_Current_Pending_Sector_raw_value, smart_High_Fly_Writes_raw_value, smart_Media_Wearout_Indicator_raw_value, smart_Offline_Uncorrectable_raw_value, smart_Power_Off_Retract_Count_raw_value, smart_Power_Cycle_Count_raw_value, smart_Program_Fail_Cnt_Total_raw_value, smart_Raw_Read_Error_Rate_raw_value, smart_Reallocated_Event_Count_raw_value, smart_Reallocated_Sector_Ct_raw_value, smart_Reported_Uncorrect_raw_value, smart_Runtime_Bad_Block_raw_value, smart_Seek_Error_Rate_raw_value, smart_Spin_Up_Time_raw_value, smart_Temperature_Celsius_raw_value, smart_Total_LBAs_Read_raw_value, smart_UDMA_CRC_Error_Count_raw_value, smart_Unknown_Attribute_raw_value, smart_Unknown_SSD_Attribute_raw_value, label]\n",
       "Index: []\n",
       "\n",
       "[0 rows x 27 columns]"
      ]
     },
     "execution_count": 51,
     "metadata": {},
     "output_type": "execute_result"
    }
   ],
   "source": [
    "spark.sql(\"SELECT * FROM data2 WHERE smart_Seek_Error_Rate_raw_value IS NULL\").limit(1).toPandas()"
   ]
  },
  {
   "cell_type": "code",
   "execution_count": 52,
   "metadata": {},
   "outputs": [
    {
     "data": {
      "text/plain": [
       "0"
      ]
     },
     "execution_count": 52,
     "metadata": {},
     "output_type": "execute_result"
    }
   ],
   "source": [
    "spark.sql(\"SELECT * FROM data2 WHERE smart_Seek_Error_Rate_raw_value IS NULL\").count()"
   ]
  },
  {
   "cell_type": "code",
   "execution_count": 53,
   "metadata": {},
   "outputs": [],
   "source": [
    "res.write.parquet(\"etl/etldone_1.parquet\", mode='overwrite')"
   ]
  },
  {
   "cell_type": "code",
   "execution_count": 3,
   "metadata": {},
   "outputs": [],
   "source": [
    "df2 = spark.read.parquet('etl/etldone_1.parquet')"
   ]
  },
  {
   "cell_type": "code",
   "execution_count": 4,
   "metadata": {},
   "outputs": [],
   "source": [
    "columns_important_attributes = []\n",
    "columns_important_attributes.append('node')\n",
    "columns_important_attributes.append('disk')\n",
    "columns_important_attributes.append('type')\n",
    "columns_important_attributes.append('timestamp_fail')\n",
    "columns_important_attributes.extend(important_attributes)"
   ]
  },
  {
   "cell_type": "code",
   "execution_count": 5,
   "metadata": {},
   "outputs": [
    {
     "name": "stdout",
     "output_type": "stream",
     "text": [
      "+------+----+----------------+-------------------+-------------------+-------------------------------+-----+\n",
      "|  node|disk|            type|     timestamp_fail|           datetime|smart_Command_Timeout_raw_value|label|\n",
      "+------+----+----------------+-------------------+-------------------+-------------------------------+-----+\n",
      "|c13.12| sdh|WDC WD2003FZEX-0|2020-04-07 00:00:00|2019-11-08 04:15:01|                            3.0|    0|\n",
      "|c13.12| sdh|WDC WD2003FZEX-0|2020-04-07 00:00:00|2019-11-08 05:15:02|                            3.0|    0|\n",
      "|c13.12| sdh|WDC WD2003FZEX-0|2020-04-07 00:00:00|2019-11-08 09:00:02|                            3.0|    0|\n",
      "|c13.12| sdh|WDC WD2003FZEX-0|2020-04-07 00:00:00|2019-11-08 06:30:01|                            3.0|    0|\n",
      "|c13.12| sdh|WDC WD2003FZEX-0|2020-04-07 00:00:00|2019-11-07 23:45:02|                            3.0|    0|\n",
      "|c13.12| sdh|WDC WD2003FZEX-0|2020-04-07 00:00:00|2019-11-08 03:00:01|                            3.0|    0|\n",
      "|c13.12| sdh|WDC WD2003FZEX-0|2020-04-07 00:00:00|2019-11-08 08:15:01|                            3.0|    0|\n",
      "|c13.12| sdh|WDC WD2003FZEX-0|2020-04-07 00:00:00|2019-11-07 22:45:01|                            3.0|    0|\n",
      "|c13.12| sdh|WDC WD2003FZEX-0|2020-04-07 00:00:00|2019-11-08 11:15:01|                            3.0|    0|\n",
      "|c13.12| sdh|WDC WD2003FZEX-0|2020-04-07 00:00:00|2019-11-08 13:45:01|                            3.0|    0|\n",
      "+------+----+----------------+-------------------+-------------------+-------------------------------+-----+\n",
      "\n"
     ]
    }
   ],
   "source": [
    "df2.where('smart_Command_Timeout_raw_value !=0').select('node', 'disk',         \n",
    "                                                        'type', 'timestamp_fail', 'datetime', 'smart_Command_Timeout_raw_value', 'label').limit(10).show()"
   ]
  },
  {
   "cell_type": "code",
   "execution_count": 6,
   "metadata": {},
   "outputs": [],
   "source": [
    "df2.createOrReplaceTempView(\"data3\")"
   ]
  },
  {
   "cell_type": "code",
   "execution_count": 7,
   "metadata": {},
   "outputs": [
    {
     "name": "stdout",
     "output_type": "stream",
     "text": [
      "+--------+\n",
      "|count(1)|\n",
      "+--------+\n",
      "| 1607195|\n",
      "+--------+\n",
      "\n"
     ]
    }
   ],
   "source": [
    "spark.sql(\"SELECT COUNT(*) FROM data3 where label=0\").show()"
   ]
  },
  {
   "cell_type": "code",
   "execution_count": 8,
   "metadata": {
    "scrolled": true
   },
   "outputs": [
    {
     "name": "stdout",
     "output_type": "stream",
     "text": [
      "+--------+\n",
      "|count(1)|\n",
      "+--------+\n",
      "|    1920|\n",
      "+--------+\n",
      "\n"
     ]
    }
   ],
   "source": [
    "spark.sql(\"SELECT COUNT(*) FROM data3 where label=1\").show()"
   ]
  },
  {
   "cell_type": "code",
   "execution_count": 9,
   "metadata": {},
   "outputs": [
    {
     "name": "stdout",
     "output_type": "stream",
     "text": [
      "smart_Command_Timeout_raw_value : 1609115\n",
      "smart_Current_Pending_Sector_raw_value : 1609115\n",
      "smart_High_Fly_Writes_raw_value : 1609115\n",
      "smart_Media_Wearout_Indicator_raw_value : 1609115\n",
      "smart_Offline_Uncorrectable_raw_value : 1609115\n",
      "smart_Power_Off_Retract_Count_raw_value : 1609115\n",
      "smart_Power_Cycle_Count_raw_value : 1609115\n",
      "smart_Program_Fail_Cnt_Total_raw_value : 1609115\n",
      "smart_Raw_Read_Error_Rate_raw_value : 1609115\n",
      "smart_Reallocated_Event_Count_raw_value : 1609115\n",
      "smart_Reallocated_Sector_Ct_raw_value : 1609115\n",
      "smart_Reported_Uncorrect_raw_value : 1609115\n",
      "smart_Runtime_Bad_Block_raw_value : 1609115\n",
      "smart_Seek_Error_Rate_raw_value : 1609115\n",
      "smart_Spin_Up_Time_raw_value : 1609115\n",
      "smart_Temperature_Celsius_raw_value : 1609115\n",
      "smart_Total_LBAs_Read_raw_value : 1609115\n",
      "smart_UDMA_CRC_Error_Count_raw_value : 1609115\n",
      "smart_Unknown_Attribute_raw_value : 1609115\n",
      "smart_Unknown_SSD_Attribute_raw_value : 1609115\n",
      "label : 1609115\n"
     ]
    }
   ],
   "source": [
    "siemprenulos = []\n",
    "for i,j in zip(map(lambda x: x+' is not null',df2.columns[6:35]),df2.columns[6:35]) :\n",
    "    cuenta = df2.where(i).count()\n",
    "    print j + ' : ' + str(cuenta)\n",
    "    if cuenta == 0:\n",
    "        siemprenulos.append(j)"
   ]
  },
  {
   "cell_type": "code",
   "execution_count": 10,
   "metadata": {
    "scrolled": true
   },
   "outputs": [
    {
     "data": {
      "text/plain": [
       "1609115"
      ]
     },
     "execution_count": 10,
     "metadata": {},
     "output_type": "execute_result"
    }
   ],
   "source": [
    "df2.count()"
   ]
  },
  {
   "cell_type": "code",
   "execution_count": 11,
   "metadata": {
    "scrolled": false
   },
   "outputs": [
    {
     "data": {
      "text/html": [
       "<div>\n",
       "<style scoped>\n",
       "    .dataframe tbody tr th:only-of-type {\n",
       "        vertical-align: middle;\n",
       "    }\n",
       "\n",
       "    .dataframe tbody tr th {\n",
       "        vertical-align: top;\n",
       "    }\n",
       "\n",
       "    .dataframe thead th {\n",
       "        text-align: right;\n",
       "    }\n",
       "</style>\n",
       "<table border=\"1\" class=\"dataframe\">\n",
       "  <thead>\n",
       "    <tr style=\"text-align: right;\">\n",
       "      <th></th>\n",
       "      <th>node</th>\n",
       "      <th>disk</th>\n",
       "      <th>capacity</th>\n",
       "      <th>type</th>\n",
       "      <th>timestamp_fail</th>\n",
       "      <th>datetime</th>\n",
       "      <th>smart_Command_Timeout_raw_value</th>\n",
       "      <th>smart_Current_Pending_Sector_raw_value</th>\n",
       "      <th>smart_High_Fly_Writes_raw_value</th>\n",
       "      <th>smart_Media_Wearout_Indicator_raw_value</th>\n",
       "      <th>...</th>\n",
       "      <th>smart_Reported_Uncorrect_raw_value</th>\n",
       "      <th>smart_Runtime_Bad_Block_raw_value</th>\n",
       "      <th>smart_Seek_Error_Rate_raw_value</th>\n",
       "      <th>smart_Spin_Up_Time_raw_value</th>\n",
       "      <th>smart_Temperature_Celsius_raw_value</th>\n",
       "      <th>smart_Total_LBAs_Read_raw_value</th>\n",
       "      <th>smart_UDMA_CRC_Error_Count_raw_value</th>\n",
       "      <th>smart_Unknown_Attribute_raw_value</th>\n",
       "      <th>smart_Unknown_SSD_Attribute_raw_value</th>\n",
       "      <th>label</th>\n",
       "    </tr>\n",
       "  </thead>\n",
       "  <tbody>\n",
       "    <tr>\n",
       "      <th>0</th>\n",
       "      <td>c13.1</td>\n",
       "      <td>sdb</td>\n",
       "      <td>1.8T</td>\n",
       "      <td>WDC WD2003FZEX-0</td>\n",
       "      <td>2020-04-02 00:00:00</td>\n",
       "      <td>2018-01-27 04:15:01</td>\n",
       "      <td>0.0</td>\n",
       "      <td>1.0</td>\n",
       "      <td>8.122593e+11</td>\n",
       "      <td>0.0</td>\n",
       "      <td>...</td>\n",
       "      <td>49.0</td>\n",
       "      <td>46.0</td>\n",
       "      <td>0.0</td>\n",
       "      <td>11.0</td>\n",
       "      <td>0.0</td>\n",
       "      <td>0.0</td>\n",
       "      <td>0.0</td>\n",
       "      <td>24.0</td>\n",
       "      <td>13258.0</td>\n",
       "      <td>0</td>\n",
       "    </tr>\n",
       "    <tr>\n",
       "      <th>1</th>\n",
       "      <td>c13.1</td>\n",
       "      <td>sdb</td>\n",
       "      <td>1.8T</td>\n",
       "      <td>WDC WD2003FZEX-0</td>\n",
       "      <td>2020-04-02 00:00:00</td>\n",
       "      <td>2018-01-28 15:45:01</td>\n",
       "      <td>0.0</td>\n",
       "      <td>1.0</td>\n",
       "      <td>8.122709e+11</td>\n",
       "      <td>0.0</td>\n",
       "      <td>...</td>\n",
       "      <td>49.0</td>\n",
       "      <td>46.0</td>\n",
       "      <td>0.0</td>\n",
       "      <td>11.0</td>\n",
       "      <td>0.0</td>\n",
       "      <td>0.0</td>\n",
       "      <td>0.0</td>\n",
       "      <td>24.0</td>\n",
       "      <td>13293.0</td>\n",
       "      <td>0</td>\n",
       "    </tr>\n",
       "    <tr>\n",
       "      <th>2</th>\n",
       "      <td>c13.1</td>\n",
       "      <td>sdb</td>\n",
       "      <td>1.8T</td>\n",
       "      <td>WDC WD2003FZEX-0</td>\n",
       "      <td>2020-04-02 00:00:00</td>\n",
       "      <td>2018-01-31 18:00:01</td>\n",
       "      <td>0.0</td>\n",
       "      <td>1.0</td>\n",
       "      <td>8.122896e+11</td>\n",
       "      <td>0.0</td>\n",
       "      <td>...</td>\n",
       "      <td>49.0</td>\n",
       "      <td>46.0</td>\n",
       "      <td>0.0</td>\n",
       "      <td>11.0</td>\n",
       "      <td>0.0</td>\n",
       "      <td>0.0</td>\n",
       "      <td>0.0</td>\n",
       "      <td>24.0</td>\n",
       "      <td>13367.0</td>\n",
       "      <td>0</td>\n",
       "    </tr>\n",
       "    <tr>\n",
       "      <th>3</th>\n",
       "      <td>c13.1</td>\n",
       "      <td>sdb</td>\n",
       "      <td>1.8T</td>\n",
       "      <td>WDC WD2003FZEX-0</td>\n",
       "      <td>2020-04-02 00:00:00</td>\n",
       "      <td>2018-02-06 05:00:02</td>\n",
       "      <td>0.0</td>\n",
       "      <td>1.0</td>\n",
       "      <td>8.123246e+11</td>\n",
       "      <td>0.0</td>\n",
       "      <td>...</td>\n",
       "      <td>49.0</td>\n",
       "      <td>46.0</td>\n",
       "      <td>0.0</td>\n",
       "      <td>11.0</td>\n",
       "      <td>0.0</td>\n",
       "      <td>0.0</td>\n",
       "      <td>0.0</td>\n",
       "      <td>24.0</td>\n",
       "      <td>13498.0</td>\n",
       "      <td>0</td>\n",
       "    </tr>\n",
       "    <tr>\n",
       "      <th>4</th>\n",
       "      <td>c13.1</td>\n",
       "      <td>sdb</td>\n",
       "      <td>1.8T</td>\n",
       "      <td>WDC WD2003FZEX-0</td>\n",
       "      <td>2020-04-02 00:00:00</td>\n",
       "      <td>2018-02-08 15:45:01</td>\n",
       "      <td>0.0</td>\n",
       "      <td>1.0</td>\n",
       "      <td>8.123401e+11</td>\n",
       "      <td>0.0</td>\n",
       "      <td>...</td>\n",
       "      <td>49.0</td>\n",
       "      <td>46.0</td>\n",
       "      <td>0.0</td>\n",
       "      <td>11.0</td>\n",
       "      <td>0.0</td>\n",
       "      <td>0.0</td>\n",
       "      <td>0.0</td>\n",
       "      <td>24.0</td>\n",
       "      <td>13557.0</td>\n",
       "      <td>0</td>\n",
       "    </tr>\n",
       "    <tr>\n",
       "      <th>5</th>\n",
       "      <td>c13.1</td>\n",
       "      <td>sdb</td>\n",
       "      <td>1.8T</td>\n",
       "      <td>WDC WD2003FZEX-0</td>\n",
       "      <td>2020-04-02 00:00:00</td>\n",
       "      <td>2018-02-09 09:15:01</td>\n",
       "      <td>0.0</td>\n",
       "      <td>1.0</td>\n",
       "      <td>8.123402e+11</td>\n",
       "      <td>0.0</td>\n",
       "      <td>...</td>\n",
       "      <td>49.0</td>\n",
       "      <td>46.0</td>\n",
       "      <td>0.0</td>\n",
       "      <td>11.0</td>\n",
       "      <td>0.0</td>\n",
       "      <td>0.0</td>\n",
       "      <td>0.0</td>\n",
       "      <td>25.0</td>\n",
       "      <td>13574.0</td>\n",
       "      <td>0</td>\n",
       "    </tr>\n",
       "    <tr>\n",
       "      <th>6</th>\n",
       "      <td>c13.1</td>\n",
       "      <td>sdb</td>\n",
       "      <td>1.8T</td>\n",
       "      <td>WDC WD2003FZEX-0</td>\n",
       "      <td>2020-04-02 00:00:00</td>\n",
       "      <td>2018-02-09 18:00:01</td>\n",
       "      <td>0.0</td>\n",
       "      <td>1.0</td>\n",
       "      <td>8.123402e+11</td>\n",
       "      <td>0.0</td>\n",
       "      <td>...</td>\n",
       "      <td>49.0</td>\n",
       "      <td>46.0</td>\n",
       "      <td>0.0</td>\n",
       "      <td>11.0</td>\n",
       "      <td>0.0</td>\n",
       "      <td>0.0</td>\n",
       "      <td>0.0</td>\n",
       "      <td>24.0</td>\n",
       "      <td>13583.0</td>\n",
       "      <td>0</td>\n",
       "    </tr>\n",
       "    <tr>\n",
       "      <th>7</th>\n",
       "      <td>c13.1</td>\n",
       "      <td>sdb</td>\n",
       "      <td>1.8T</td>\n",
       "      <td>WDC WD2003FZEX-0</td>\n",
       "      <td>2020-04-02 00:00:00</td>\n",
       "      <td>2018-02-16 06:15:01</td>\n",
       "      <td>0.0</td>\n",
       "      <td>1.0</td>\n",
       "      <td>8.123706e+11</td>\n",
       "      <td>0.0</td>\n",
       "      <td>...</td>\n",
       "      <td>49.0</td>\n",
       "      <td>46.0</td>\n",
       "      <td>0.0</td>\n",
       "      <td>11.0</td>\n",
       "      <td>0.0</td>\n",
       "      <td>0.0</td>\n",
       "      <td>0.0</td>\n",
       "      <td>25.0</td>\n",
       "      <td>13739.0</td>\n",
       "      <td>0</td>\n",
       "    </tr>\n",
       "    <tr>\n",
       "      <th>8</th>\n",
       "      <td>c13.1</td>\n",
       "      <td>sdb</td>\n",
       "      <td>1.8T</td>\n",
       "      <td>WDC WD2003FZEX-0</td>\n",
       "      <td>2020-04-02 00:00:00</td>\n",
       "      <td>2018-02-19 16:30:02</td>\n",
       "      <td>0.0</td>\n",
       "      <td>1.0</td>\n",
       "      <td>8.123874e+11</td>\n",
       "      <td>0.0</td>\n",
       "      <td>...</td>\n",
       "      <td>49.0</td>\n",
       "      <td>46.0</td>\n",
       "      <td>0.0</td>\n",
       "      <td>11.0</td>\n",
       "      <td>0.0</td>\n",
       "      <td>0.0</td>\n",
       "      <td>0.0</td>\n",
       "      <td>24.0</td>\n",
       "      <td>13821.0</td>\n",
       "      <td>0</td>\n",
       "    </tr>\n",
       "    <tr>\n",
       "      <th>9</th>\n",
       "      <td>c13.1</td>\n",
       "      <td>sdb</td>\n",
       "      <td>1.8T</td>\n",
       "      <td>WDC WD2003FZEX-0</td>\n",
       "      <td>2020-04-02 00:00:00</td>\n",
       "      <td>2018-02-22 12:00:01</td>\n",
       "      <td>0.0</td>\n",
       "      <td>1.0</td>\n",
       "      <td>8.124029e+11</td>\n",
       "      <td>0.0</td>\n",
       "      <td>...</td>\n",
       "      <td>49.0</td>\n",
       "      <td>46.0</td>\n",
       "      <td>0.0</td>\n",
       "      <td>11.0</td>\n",
       "      <td>0.0</td>\n",
       "      <td>0.0</td>\n",
       "      <td>0.0</td>\n",
       "      <td>25.0</td>\n",
       "      <td>13889.0</td>\n",
       "      <td>0</td>\n",
       "    </tr>\n",
       "  </tbody>\n",
       "</table>\n",
       "<p>10 rows × 27 columns</p>\n",
       "</div>"
      ],
      "text/plain": [
       "    node disk capacity              type       timestamp_fail  \\\n",
       "0  c13.1  sdb     1.8T  WDC WD2003FZEX-0  2020-04-02 00:00:00   \n",
       "1  c13.1  sdb     1.8T  WDC WD2003FZEX-0  2020-04-02 00:00:00   \n",
       "2  c13.1  sdb     1.8T  WDC WD2003FZEX-0  2020-04-02 00:00:00   \n",
       "3  c13.1  sdb     1.8T  WDC WD2003FZEX-0  2020-04-02 00:00:00   \n",
       "4  c13.1  sdb     1.8T  WDC WD2003FZEX-0  2020-04-02 00:00:00   \n",
       "5  c13.1  sdb     1.8T  WDC WD2003FZEX-0  2020-04-02 00:00:00   \n",
       "6  c13.1  sdb     1.8T  WDC WD2003FZEX-0  2020-04-02 00:00:00   \n",
       "7  c13.1  sdb     1.8T  WDC WD2003FZEX-0  2020-04-02 00:00:00   \n",
       "8  c13.1  sdb     1.8T  WDC WD2003FZEX-0  2020-04-02 00:00:00   \n",
       "9  c13.1  sdb     1.8T  WDC WD2003FZEX-0  2020-04-02 00:00:00   \n",
       "\n",
       "             datetime  smart_Command_Timeout_raw_value  \\\n",
       "0 2018-01-27 04:15:01                              0.0   \n",
       "1 2018-01-28 15:45:01                              0.0   \n",
       "2 2018-01-31 18:00:01                              0.0   \n",
       "3 2018-02-06 05:00:02                              0.0   \n",
       "4 2018-02-08 15:45:01                              0.0   \n",
       "5 2018-02-09 09:15:01                              0.0   \n",
       "6 2018-02-09 18:00:01                              0.0   \n",
       "7 2018-02-16 06:15:01                              0.0   \n",
       "8 2018-02-19 16:30:02                              0.0   \n",
       "9 2018-02-22 12:00:01                              0.0   \n",
       "\n",
       "   smart_Current_Pending_Sector_raw_value  smart_High_Fly_Writes_raw_value  \\\n",
       "0                                     1.0                     8.122593e+11   \n",
       "1                                     1.0                     8.122709e+11   \n",
       "2                                     1.0                     8.122896e+11   \n",
       "3                                     1.0                     8.123246e+11   \n",
       "4                                     1.0                     8.123401e+11   \n",
       "5                                     1.0                     8.123402e+11   \n",
       "6                                     1.0                     8.123402e+11   \n",
       "7                                     1.0                     8.123706e+11   \n",
       "8                                     1.0                     8.123874e+11   \n",
       "9                                     1.0                     8.124029e+11   \n",
       "\n",
       "   smart_Media_Wearout_Indicator_raw_value  ...    \\\n",
       "0                                      0.0  ...     \n",
       "1                                      0.0  ...     \n",
       "2                                      0.0  ...     \n",
       "3                                      0.0  ...     \n",
       "4                                      0.0  ...     \n",
       "5                                      0.0  ...     \n",
       "6                                      0.0  ...     \n",
       "7                                      0.0  ...     \n",
       "8                                      0.0  ...     \n",
       "9                                      0.0  ...     \n",
       "\n",
       "   smart_Reported_Uncorrect_raw_value  smart_Runtime_Bad_Block_raw_value  \\\n",
       "0                                49.0                               46.0   \n",
       "1                                49.0                               46.0   \n",
       "2                                49.0                               46.0   \n",
       "3                                49.0                               46.0   \n",
       "4                                49.0                               46.0   \n",
       "5                                49.0                               46.0   \n",
       "6                                49.0                               46.0   \n",
       "7                                49.0                               46.0   \n",
       "8                                49.0                               46.0   \n",
       "9                                49.0                               46.0   \n",
       "\n",
       "   smart_Seek_Error_Rate_raw_value  smart_Spin_Up_Time_raw_value  \\\n",
       "0                              0.0                          11.0   \n",
       "1                              0.0                          11.0   \n",
       "2                              0.0                          11.0   \n",
       "3                              0.0                          11.0   \n",
       "4                              0.0                          11.0   \n",
       "5                              0.0                          11.0   \n",
       "6                              0.0                          11.0   \n",
       "7                              0.0                          11.0   \n",
       "8                              0.0                          11.0   \n",
       "9                              0.0                          11.0   \n",
       "\n",
       "   smart_Temperature_Celsius_raw_value  smart_Total_LBAs_Read_raw_value  \\\n",
       "0                                  0.0                              0.0   \n",
       "1                                  0.0                              0.0   \n",
       "2                                  0.0                              0.0   \n",
       "3                                  0.0                              0.0   \n",
       "4                                  0.0                              0.0   \n",
       "5                                  0.0                              0.0   \n",
       "6                                  0.0                              0.0   \n",
       "7                                  0.0                              0.0   \n",
       "8                                  0.0                              0.0   \n",
       "9                                  0.0                              0.0   \n",
       "\n",
       "   smart_UDMA_CRC_Error_Count_raw_value  smart_Unknown_Attribute_raw_value  \\\n",
       "0                                   0.0                               24.0   \n",
       "1                                   0.0                               24.0   \n",
       "2                                   0.0                               24.0   \n",
       "3                                   0.0                               24.0   \n",
       "4                                   0.0                               24.0   \n",
       "5                                   0.0                               25.0   \n",
       "6                                   0.0                               24.0   \n",
       "7                                   0.0                               25.0   \n",
       "8                                   0.0                               24.0   \n",
       "9                                   0.0                               25.0   \n",
       "\n",
       "   smart_Unknown_SSD_Attribute_raw_value  label  \n",
       "0                                13258.0      0  \n",
       "1                                13293.0      0  \n",
       "2                                13367.0      0  \n",
       "3                                13498.0      0  \n",
       "4                                13557.0      0  \n",
       "5                                13574.0      0  \n",
       "6                                13583.0      0  \n",
       "7                                13739.0      0  \n",
       "8                                13821.0      0  \n",
       "9                                13889.0      0  \n",
       "\n",
       "[10 rows x 27 columns]"
      ]
     },
     "execution_count": 11,
     "metadata": {},
     "output_type": "execute_result"
    }
   ],
   "source": [
    "df2.limit(10).toPandas()"
   ]
  },
  {
   "cell_type": "code",
   "execution_count": 12,
   "metadata": {},
   "outputs": [
    {
     "data": {
      "text/plain": [
       "['smart_Reallocated_Sector_Ct_raw_value',\n",
       " 'smart_Power_Cycle_Count_raw_value',\n",
       " 'smart_Reported_Uncorrect_raw_value',\n",
       " 'smart_Command_Timeout_raw_value',\n",
       " 'smart_High_Fly_Writes_raw_value',\n",
       " 'smart_Offline_Uncorrectable_raw_value',\n",
       " 'smart_UDMA_CRC_Error_Count_raw_value',\n",
       " 'label']"
      ]
     },
     "execution_count": 12,
     "metadata": {},
     "output_type": "execute_result"
    }
   ],
   "source": [
    "important_attributes"
   ]
  },
  {
   "cell_type": "code",
   "execution_count": 4,
   "metadata": {},
   "outputs": [],
   "source": [
    "from pyspark.ml.linalg import DenseVector\n",
    "\n",
    " \n",
    "#input_data = df2.select(df2.columns[6:])\n",
    "input_data = df2.select(important_attributes)\n",
    "#input_data = input_data.rdd.map(lambda x: (x[8], DenseVector(x[:8])))\n",
    "input_data = input_data.rdd.map(lambda x: (x[7], DenseVector(x[:7])))\n",
    "\n",
    "\n",
    "output = spark.createDataFrame(input_data, [\"label\", \"features\"])"
   ]
  },
  {
   "cell_type": "code",
   "execution_count": 5,
   "metadata": {},
   "outputs": [],
   "source": [
    "output.createOrReplaceTempView(\"data4\")"
   ]
  },
  {
   "cell_type": "code",
   "execution_count": 6,
   "metadata": {},
   "outputs": [
    {
     "name": "stdout",
     "output_type": "stream",
     "text": [
      "+-----+\n",
      "|label|\n",
      "+-----+\n",
      "|    0|\n",
      "|    1|\n",
      "+-----+\n",
      "\n"
     ]
    }
   ],
   "source": [
    "spark.sql(\"select distinct label from data4\").show()"
   ]
  },
  {
   "cell_type": "code",
   "execution_count": 7,
   "metadata": {},
   "outputs": [
    {
     "name": "stdout",
     "output_type": "stream",
     "text": [
      "root\n",
      " |-- label: string (nullable = true)\n",
      " |-- features: vector (nullable = true)\n",
      "\n"
     ]
    }
   ],
   "source": [
    "output.printSchema()"
   ]
  },
  {
   "cell_type": "code",
   "execution_count": 8,
   "metadata": {},
   "outputs": [],
   "source": [
    "scaler = StandardScaler(inputCol=\"features\", outputCol=\"scaledFeatures\", withMean=True, withStd=True)\n",
    "scalerModel = scaler.fit(output)\n",
    "scaledData = scalerModel.transform(output).select('label', 'scaledFeatures')"
   ]
  },
  {
   "cell_type": "code",
   "execution_count": 9,
   "metadata": {},
   "outputs": [
    {
     "name": "stdout",
     "output_type": "stream",
     "text": [
      "+-----+--------------------+\n",
      "|label|      scaledFeatures|\n",
      "+-----+--------------------+\n",
      "|    0|[-0.9267429654778...|\n",
      "|    0|[-0.9267429654778...|\n",
      "|    0|[-0.9267429654778...|\n",
      "|    0|[-0.9267429654778...|\n",
      "|    0|[-0.9267429654778...|\n",
      "+-----+--------------------+\n",
      "\n"
     ]
    }
   ],
   "source": [
    "scaledData.limit(5).show()"
   ]
  },
  {
   "cell_type": "code",
   "execution_count": 10,
   "metadata": {},
   "outputs": [],
   "source": [
    "scaledData = scaledData.withColumnRenamed('scaledFeatures', 'features')"
   ]
  },
  {
   "cell_type": "code",
   "execution_count": 11,
   "metadata": {},
   "outputs": [],
   "source": [
    "scaledData = scaledData.select( \"features\", scaledData.label.cast(LongType()))"
   ]
  },
  {
   "cell_type": "code",
   "execution_count": 12,
   "metadata": {},
   "outputs": [
    {
     "name": "stdout",
     "output_type": "stream",
     "text": [
      "+--------------------+-----+\n",
      "|            features|label|\n",
      "+--------------------+-----+\n",
      "|[-0.9267429654778...|    0|\n",
      "|[-0.9267429654778...|    0|\n",
      "|[-0.9267429654778...|    0|\n",
      "|[-0.9267429654778...|    0|\n",
      "|[-0.9267429654778...|    0|\n",
      "+--------------------+-----+\n",
      "\n"
     ]
    }
   ],
   "source": [
    "scaledData.limit(5).show()"
   ]
  },
  {
   "cell_type": "markdown",
   "metadata": {},
   "source": [
    "Recuerda que hay que hacer SMOTE antes de PCA."
   ]
  },
  {
   "cell_type": "code",
   "execution_count": 55,
   "metadata": {},
   "outputs": [],
   "source": [
    "import random\n",
    "import numpy as np\n",
    "from pyspark.sql import Row\n",
    "from sklearn import neighbors\n",
    "from pyspark.ml.feature import VectorAssembler\n",
    "\n",
    "def vectorizerFunction(dataInput, TargetFieldName):\n",
    "    if(dataInput.select(TargetFieldName).distinct().count() != 2):\n",
    "        raise ValueError(\"Target field must have only 2 distinct classes\")\n",
    "    columnNames = list(dataInput.columns)\n",
    "    columnNames.remove(TargetFieldName)\n",
    "    dataInput = dataInput.select((','.join(columnNames)+','+TargetFieldName).split(','))\n",
    "    assembler=VectorAssembler(inputCols = columnNames, outputCol = 'features')\n",
    "    pos_vectorized = assembler.transform(dataInput)\n",
    "    vectorized = pos_vectorized.select('features',TargetFieldName).withColumn('label',pos_vectorized[TargetFieldName]).drop(TargetFieldName)\n",
    "    return vectorized\n",
    "\n",
    "def SmoteSampling(vectorized, k = 5, minorityClass = 1, majorityClass = 0, percentageOver = 200, percentageUnder = 100):\n",
    "    if(percentageUnder > 100|percentageUnder < 10):\n",
    "        raise ValueError(\"Percentage Under must be in range 10 - 100\");\n",
    "    if(percentageOver < 100):\n",
    "        raise ValueError(\"Percentage Over must be in at least 100\");\n",
    "    dataInput_min = vectorized[vectorized['label'] == minorityClass]\n",
    "    dataInput_maj = vectorized[vectorized['label'] == majorityClass]\n",
    "    feature = dataInput_min.select('features')\n",
    "    feature = feature.rdd\n",
    "    feature = feature.map(lambda x: x[0])\n",
    "    feature = feature.collect()\n",
    "    feature = np.asarray(feature)\n",
    "    nbrs = neighbors.NearestNeighbors(n_neighbors=k, algorithm='auto').fit(feature)\n",
    "    neighbours =  nbrs.kneighbors(feature)\n",
    "    gap = neighbours[0]\n",
    "    neighbours = neighbours[1]\n",
    "    min_rdd = dataInput_min.drop('label').rdd\n",
    "    pos_rddArray = min_rdd.map(lambda x : list(x))\n",
    "    pos_ListArray = pos_rddArray.collect()\n",
    "    min_Array = list(pos_ListArray)\n",
    "    newRows = []\n",
    "    nt = len(min_Array)\n",
    "    nexs = percentageOver/100\n",
    "    for i in range(nt):\n",
    "        for j in range(nexs):\n",
    "            neigh = random.randint(1,k)\n",
    "            difs = min_Array[neigh][0] - min_Array[i][0]\n",
    "            newRec = (min_Array[i][0]+random.random()*difs)\n",
    "            newRows.insert(0,(newRec))\n",
    "    newData_rdd = sc.parallelize(newRows)\n",
    "    newData_rdd_new = newData_rdd.map(lambda x: Row(features = x, label = 1))\n",
    "    new_data = newData_rdd_new.toDF()\n",
    "    new_data_minor = dataInput_min.unionAll(new_data)\n",
    "    new_data_major = dataInput_maj.sample(False, (float(percentageUnder)/float(100)))\n",
    "    return new_data_major.unionAll(new_data_minor)\n"
   ]
  },
  {
   "cell_type": "code",
   "execution_count": 13,
   "metadata": {},
   "outputs": [
    {
     "data": {
      "text/plain": [
       "1609115"
      ]
     },
     "execution_count": 13,
     "metadata": {},
     "output_type": "execute_result"
    }
   ],
   "source": [
    "scaledData.count()"
   ]
  },
  {
   "cell_type": "code",
   "execution_count": 14,
   "metadata": {},
   "outputs": [],
   "source": [
    "train, test = scaledData.randomSplit([0.6,0.4], seed = 2)"
   ]
  },
  {
   "cell_type": "code",
   "execution_count": 15,
   "metadata": {},
   "outputs": [],
   "source": [
    "#UNDERSAMPLING solo al train\n",
    "failDf = train.filter(train.label==1)\n",
    "nofailDf = train.filter(train.label==0)\n",
    "sampleRatio = float(failDf.count()) / float(train.count())\n",
    "nofailDfSampleDf = nofailDf.sample(False, sampleRatio, seed=123)"
   ]
  },
  {
   "cell_type": "code",
   "execution_count": 16,
   "metadata": {},
   "outputs": [
    {
     "data": {
      "text/plain": [
       "1079"
      ]
     },
     "execution_count": 16,
     "metadata": {},
     "output_type": "execute_result"
    }
   ],
   "source": [
    "nofailDfSampleDf.count()"
   ]
  },
  {
   "cell_type": "code",
   "execution_count": 17,
   "metadata": {},
   "outputs": [
    {
     "data": {
      "text/plain": [
       "1127"
      ]
     },
     "execution_count": 17,
     "metadata": {},
     "output_type": "execute_result"
    }
   ],
   "source": [
    "failDf.count()"
   ]
  },
  {
   "cell_type": "code",
   "execution_count": 18,
   "metadata": {},
   "outputs": [
    {
     "data": {
      "text/plain": [
       "965462"
      ]
     },
     "execution_count": 18,
     "metadata": {},
     "output_type": "execute_result"
    }
   ],
   "source": [
    "train.count()"
   ]
  },
  {
   "cell_type": "code",
   "execution_count": 19,
   "metadata": {},
   "outputs": [
    {
     "data": {
      "text/plain": [
       "643653"
      ]
     },
     "execution_count": 19,
     "metadata": {},
     "output_type": "execute_result"
    }
   ],
   "source": [
    "test.count()"
   ]
  },
  {
   "cell_type": "code",
   "execution_count": 30,
   "metadata": {},
   "outputs": [
    {
     "data": {
      "text/plain": [
       "793"
      ]
     },
     "execution_count": 30,
     "metadata": {},
     "output_type": "execute_result"
    }
   ],
   "source": [
    "test.where('label=\"1\"').count()"
   ]
  },
  {
   "cell_type": "code",
   "execution_count": 20,
   "metadata": {},
   "outputs": [],
   "source": [
    "train = failDf.unionAll(nofailDfSampleDf)"
   ]
  },
  {
   "cell_type": "code",
   "execution_count": 21,
   "metadata": {},
   "outputs": [
    {
     "data": {
      "text/plain": [
       "2206"
      ]
     },
     "execution_count": 21,
     "metadata": {},
     "output_type": "execute_result"
    }
   ],
   "source": [
    "train.count()"
   ]
  },
  {
   "cell_type": "code",
   "execution_count": 104,
   "metadata": {},
   "outputs": [
    {
     "data": {
      "text/plain": [
       "110.6278182448838"
      ]
     },
     "execution_count": 104,
     "metadata": {},
     "output_type": "execute_result"
    }
   ],
   "source": [
    "float(1594700)/float(14415)"
   ]
  },
  {
   "cell_type": "code",
   "execution_count": 57,
   "metadata": {},
   "outputs": [],
   "source": [
    "#dimequesi = SmoteSampling(scaledData, k = 2, minorityClass = 1, majorityClass = 0, percentageOver = 1110, percentageUnder = 11)"
   ]
  },
  {
   "cell_type": "code",
   "execution_count": 34,
   "metadata": {},
   "outputs": [],
   "source": [
    "#dimequesi.printSchema()"
   ]
  },
  {
   "cell_type": "code",
   "execution_count": 78,
   "metadata": {},
   "outputs": [],
   "source": [
    "#dimequesi.createOrReplaceTempView(\"data55\")"
   ]
  },
  {
   "cell_type": "code",
   "execution_count": 33,
   "metadata": {},
   "outputs": [],
   "source": [
    "#spark.sql(\"SELECT COUNT(*) FROM data55 where label=0\").show()"
   ]
  },
  {
   "cell_type": "code",
   "execution_count": 35,
   "metadata": {
    "scrolled": true
   },
   "outputs": [],
   "source": [
    "#spark.sql(\"SELECT COUNT(*) FROM data55 where label=1\").show()"
   ]
  },
  {
   "cell_type": "code",
   "execution_count": 36,
   "metadata": {},
   "outputs": [],
   "source": [
    "#dimequesi.limit(1).show()"
   ]
  },
  {
   "cell_type": "code",
   "execution_count": 22,
   "metadata": {},
   "outputs": [],
   "source": [
    "train = train.select(train.features, train.label.cast('double'))"
   ]
  },
  {
   "cell_type": "code",
   "execution_count": 83,
   "metadata": {},
   "outputs": [],
   "source": [
    "#train, test = dimequesi.randomSplit([0.7,0.3], seed = 2)"
   ]
  },
  {
   "cell_type": "code",
   "execution_count": 23,
   "metadata": {},
   "outputs": [],
   "source": [
    "train.createOrReplaceTempView(\"data55\")"
   ]
  },
  {
   "cell_type": "code",
   "execution_count": 24,
   "metadata": {},
   "outputs": [
    {
     "name": "stdout",
     "output_type": "stream",
     "text": [
      "+----+\n",
      "|  L0|\n",
      "+----+\n",
      "|1079|\n",
      "+----+\n",
      "\n"
     ]
    }
   ],
   "source": [
    "spark.sql(\"SELECT COUNT(*) as L0 FROM data55 where label=0\").show()"
   ]
  },
  {
   "cell_type": "code",
   "execution_count": 25,
   "metadata": {
    "scrolled": true
   },
   "outputs": [
    {
     "name": "stdout",
     "output_type": "stream",
     "text": [
      "+----+\n",
      "|  L1|\n",
      "+----+\n",
      "|1127|\n",
      "+----+\n",
      "\n"
     ]
    }
   ],
   "source": [
    "spark.sql(\"SELECT COUNT(*) as L1 FROM data55 where label=1\").show()"
   ]
  },
  {
   "cell_type": "code",
   "execution_count": 26,
   "metadata": {},
   "outputs": [],
   "source": [
    "test.createOrReplaceTempView(\"data56\")"
   ]
  },
  {
   "cell_type": "code",
   "execution_count": 27,
   "metadata": {},
   "outputs": [
    {
     "name": "stdout",
     "output_type": "stream",
     "text": [
      "+------+\n",
      "|    L0|\n",
      "+------+\n",
      "|642860|\n",
      "+------+\n",
      "\n"
     ]
    }
   ],
   "source": [
    "spark.sql(\"SELECT COUNT(*) as L0 FROM data56 where label=0\").show() "
   ]
  },
  {
   "cell_type": "code",
   "execution_count": 28,
   "metadata": {
    "scrolled": true
   },
   "outputs": [
    {
     "name": "stdout",
     "output_type": "stream",
     "text": [
      "+---+\n",
      "| L1|\n",
      "+---+\n",
      "|793|\n",
      "+---+\n",
      "\n"
     ]
    }
   ],
   "source": [
    "spark.sql(\"SELECT COUNT(*) as L1 FROM data56 where label=1\").show()"
   ]
  },
  {
   "cell_type": "code",
   "execution_count": 29,
   "metadata": {},
   "outputs": [
    {
     "name": "stdout",
     "output_type": "stream",
     "text": [
      "+--------------------------------------------------------------+-----+\n",
      "|features                                                      |label|\n",
      "+--------------------------------------------------------------+-----+\n",
      "|[0.0112233009476904,-0.875474210620337,-1.6385625777418802]   |1.0  |\n",
      "|[0.011223425438569946,-0.875474963331365,-1.6385547518011354] |1.0  |\n",
      "|[0.011223440067383569,-0.8754750517817751,-1.6385538321817303]|1.0  |\n",
      "|[0.011223454696197187,-0.8754751402321852,-1.6385529125623257]|1.0  |\n",
      "|[0.011223462026822197,-0.8754751845554505,-1.6385524517330894]|1.0  |\n",
      "|[0.011223476655635816,-0.8754752730058604,-1.6385515321136845]|1.0  |\n",
      "|[0.011223543052934003,-0.8754756744648169,-1.6385473581426828]|1.0  |\n",
      "|[0.01122360160062488,-0.8754760284625775,-1.6385436776259958] |1.0  |\n",
      "|[0.011223785709596298,-0.8754771416433476,-1.6385321038793392]|1.0  |\n",
      "|[0.011223800370846315,-0.8754772302898781,-1.638531182220867] |1.0  |\n",
      "+--------------------------------------------------------------+-----+\n",
      "\n"
     ]
    }
   ],
   "source": [
    "pca = PCA(k=3, inputCol=\"features\", outputCol=\"pcaFeatures\")\n",
    "model = pca.fit(train)\n",
    "train_pca = model.transform(train).select(\"pcaFeatures\", 'label')\n",
    "train_pca = train_pca.withColumnRenamed(\"pcaFeatures\", 'features')\n",
    "train_pca.limit(10).show(truncate=False)"
   ]
  },
  {
   "cell_type": "code",
   "execution_count": 30,
   "metadata": {},
   "outputs": [
    {
     "name": "stdout",
     "output_type": "stream",
     "text": [
      "+------------------------------------------------------------+-----+\n",
      "|features                                                    |label|\n",
      "+------------------------------------------------------------+-----+\n",
      "|[2.3799208036397843,0.09425001119198623,0.41404799366118905]|0    |\n",
      "|[2.379920803186887,0.09425001015863882,0.4140479934844577]  |0    |\n",
      "|[2.379920803186887,0.09425001015863882,0.4140479934844577]  |0    |\n",
      "|[2.379920803186887,0.09425001015863882,0.4140479934844577]  |0    |\n",
      "|[2.3799207812213763,0.09424996004128866,0.41404798491298717]|0    |\n",
      "|[2.379920779183339,0.09424995539122522,0.4140479841176961]  |0    |\n",
      "|[2.3799207757866108,0.09424994764111955,0.414047982792211]  |0    |\n",
      "|[2.3799207721634335,0.09424993937434017,0.4140479813783602] |0    |\n",
      "|[2.379920768993154,0.09424993214090821,0.4140479801412407]  |0    |\n",
      "|[2.3799207669551166,0.09424992749084476,0.41404797934594967]|0    |\n",
      "+------------------------------------------------------------+-----+\n",
      "\n"
     ]
    }
   ],
   "source": [
    "pca = PCA(k=3, inputCol=\"features\", outputCol=\"pcaFeatures\")\n",
    "model = pca.fit(test)\n",
    "test_pca = model.transform(test).select(\"pcaFeatures\",'label')\n",
    "test_pca = test_pca.withColumnRenamed(\"pcaFeatures\", 'features')\n",
    "test_pca.limit(10).show(truncate=False)"
   ]
  },
  {
   "cell_type": "code",
   "execution_count": 31,
   "metadata": {},
   "outputs": [
    {
     "name": "stdout",
     "output_type": "stream",
     "text": [
      "2206\n",
      "643653\n"
     ]
    }
   ],
   "source": [
    "print train_pca.count()\n",
    "print test_pca.count()"
   ]
  },
  {
   "cell_type": "code",
   "execution_count": 32,
   "metadata": {
    "scrolled": true
   },
   "outputs": [
    {
     "name": "stdout",
     "output_type": "stream",
     "text": [
      "Coefficients: [0.0,0.0,0.0]\n",
      "Intercept: 0.0435245487816\n"
     ]
    }
   ],
   "source": [
    "lr = LogisticRegression(maxIter=10, regParam=0.3, elasticNetParam=0.8, featuresCol='features', labelCol='label')\n",
    "\n",
    "# Fit the model\n",
    "lrModel = lr.fit(train_pca)\n",
    "\n",
    "# Print the coefficients and intercept for logistic regression\n",
    "print(\"Coefficients: \" + str(lrModel.coefficients))\n",
    "print(\"Intercept: \" + str(lrModel.intercept))"
   ]
  },
  {
   "cell_type": "code",
   "execution_count": 33,
   "metadata": {},
   "outputs": [],
   "source": [
    "predictions_train = lrModel.transform(train_pca)"
   ]
  },
  {
   "cell_type": "code",
   "execution_count": 34,
   "metadata": {},
   "outputs": [],
   "source": [
    "predictions_test = lrModel.transform(test_pca)"
   ]
  },
  {
   "cell_type": "code",
   "execution_count": 35,
   "metadata": {},
   "outputs": [
    {
     "name": "stdout",
     "output_type": "stream",
     "text": [
      "Test Area Under ROC 0.5\n"
     ]
    }
   ],
   "source": [
    "from pyspark.ml.evaluation import BinaryClassificationEvaluator\n",
    "evaluator = BinaryClassificationEvaluator()\n",
    "print 'Test Area Under ROC ' + str(evaluator.evaluate(predictions_test))"
   ]
  },
  {
   "cell_type": "code",
   "execution_count": 36,
   "metadata": {},
   "outputs": [
    {
     "name": "stdout",
     "output_type": "stream",
     "text": [
      "Test Area Under ROC 0.5\n"
     ]
    }
   ],
   "source": [
    "from pyspark.ml.evaluation import BinaryClassificationEvaluator\n",
    "evaluator = BinaryClassificationEvaluator()\n",
    "print 'Test Area Under ROC ' + str(evaluator.evaluate(predictions_train))"
   ]
  },
  {
   "cell_type": "code",
   "execution_count": 37,
   "metadata": {},
   "outputs": [
    {
     "name": "stdout",
     "output_type": "stream",
     "text": [
      "Accuracy 0.00123203030204\n"
     ]
    }
   ],
   "source": [
    "print 'Accuracy ' + str(predictions_test.filter(predictions_test.label == predictions_test.prediction).count()/float(predictions_test.count()))"
   ]
  },
  {
   "cell_type": "code",
   "execution_count": 38,
   "metadata": {},
   "outputs": [],
   "source": [
    "from pyspark.ml.tuning import ParamGridBuilder, CrossValidator\n",
    "\n",
    "paramGrid = (ParamGridBuilder().addGrid(lr.regParam, [0.01,0.5,1.0,2.0])\n",
    "             .addGrid(lr.elasticNetParam, [0.0,0.5,1.0])\n",
    "             .addGrid(lr.maxIter, [1,3,5,8,10])\n",
    "             .addGrid(lr.threshold, [0.5,0.6,0.7])\n",
    "             .build())"
   ]
  },
  {
   "cell_type": "code",
   "execution_count": 39,
   "metadata": {},
   "outputs": [],
   "source": [
    "cv = CrossValidator(estimator=lr, estimatorParamMaps=paramGrid, evaluator=evaluator, numFolds=5)"
   ]
  },
  {
   "cell_type": "code",
   "execution_count": 40,
   "metadata": {},
   "outputs": [],
   "source": [
    "cvModel = cv.fit(train_pca)"
   ]
  },
  {
   "cell_type": "code",
   "execution_count": 41,
   "metadata": {},
   "outputs": [
    {
     "name": "stdout",
     "output_type": "stream",
     "text": [
      "Test Area Under ROC 0.637373524382\n"
     ]
    }
   ],
   "source": [
    "predictions_test_2 = cvModel.transform(test_pca)\n",
    "print 'Test Area Under ROC ' + str(evaluator.evaluate(predictions_test_2))"
   ]
  },
  {
   "cell_type": "code",
   "execution_count": 42,
   "metadata": {},
   "outputs": [
    {
     "name": "stdout",
     "output_type": "stream",
     "text": [
      "Test Area Under ROC 0.702034402027\n"
     ]
    }
   ],
   "source": [
    "predictions_train_2 = cvModel.transform(train_pca)\n",
    "print 'Test Area Under ROC ' + str(evaluator.evaluate(predictions_train_2))"
   ]
  },
  {
   "cell_type": "code",
   "execution_count": 43,
   "metadata": {},
   "outputs": [],
   "source": [
    "best_model = cvModel.bestModel"
   ]
  },
  {
   "cell_type": "code",
   "execution_count": 44,
   "metadata": {},
   "outputs": [
    {
     "data": {
      "text/plain": [
       "0.0"
      ]
     },
     "execution_count": 44,
     "metadata": {},
     "output_type": "execute_result"
    }
   ],
   "source": [
    "best_model._java_obj.getRegParam()\n",
    "best_model._java_obj.getMaxIter()\n",
    "best_model._java_obj.getElasticNetParam()\n"
   ]
  },
  {
   "cell_type": "code",
   "execution_count": 49,
   "metadata": {},
   "outputs": [
    {
     "name": "stdout",
     "output_type": "stream",
     "text": [
      "Prediccion     0.0     1.0\n",
      "Actual                    \n",
      "0           521177  121683\n",
      "1              511     282\n"
     ]
    },
    {
     "data": {
      "image/png": "[encoded data removed]",
      "text/plain": [
       "<Figure size 432x288 with 2 Axes>"
      ]
     },
     "metadata": {
      "needs_background": "light"
     },
     "output_type": "display_data"
    }
   ],
   "source": [
    "ccm_lg = predictions_test_2.select('label', 'prediction').toPandas()\n",
    "confusion_matrix = pd.crosstab(ccm_lg['label'], ccm_lg['prediction'], rownames=['Actual'], colnames=['Prediccion'])\n",
    "print (confusion_matrix)\n",
    "sns.heatmap(confusion_matrix, annot=True, cmap=\"Blues\", fmt='g', cbar_kws={\"orientation\": \"horizontal\"})\n",
    "plt.savefig('CM_LG_UNDER_1.pdf')\n"
   ]
  },
  {
   "cell_type": "code",
   "execution_count": 46,
   "metadata": {},
   "outputs": [],
   "source": [
    "from sklearn.metrics import classification_report\n",
    "report = classification_report(ccm_lg['label'], ccm_lg['prediction'], output_dict=True)"
   ]
  },
  {
   "cell_type": "code",
   "execution_count": 47,
   "metadata": {},
   "outputs": [
    {
     "data": {
      "text/html": [
       "<div>\n",
       "<style scoped>\n",
       "    .dataframe tbody tr th:only-of-type {\n",
       "        vertical-align: middle;\n",
       "    }\n",
       "\n",
       "    .dataframe tbody tr th {\n",
       "        vertical-align: top;\n",
       "    }\n",
       "\n",
       "    .dataframe thead th {\n",
       "        text-align: right;\n",
       "    }\n",
       "</style>\n",
       "<table border=\"1\" class=\"dataframe\">\n",
       "  <thead>\n",
       "    <tr style=\"text-align: right;\">\n",
       "      <th></th>\n",
       "      <th>f1-score</th>\n",
       "      <th>precision</th>\n",
       "      <th>recall</th>\n",
       "      <th>support</th>\n",
       "    </tr>\n",
       "  </thead>\n",
       "  <tbody>\n",
       "    <tr>\n",
       "      <th>0</th>\n",
       "      <td>0.895072</td>\n",
       "      <td>0.999020</td>\n",
       "      <td>0.810716</td>\n",
       "      <td>642860.0</td>\n",
       "    </tr>\n",
       "    <tr>\n",
       "      <th>1</th>\n",
       "      <td>0.004594</td>\n",
       "      <td>0.002312</td>\n",
       "      <td>0.355612</td>\n",
       "      <td>793.0</td>\n",
       "    </tr>\n",
       "    <tr>\n",
       "      <th>macro avg</th>\n",
       "      <td>0.449833</td>\n",
       "      <td>0.500666</td>\n",
       "      <td>0.583164</td>\n",
       "      <td>643653.0</td>\n",
       "    </tr>\n",
       "    <tr>\n",
       "      <th>micro avg</th>\n",
       "      <td>0.810155</td>\n",
       "      <td>0.810155</td>\n",
       "      <td>0.810155</td>\n",
       "      <td>643653.0</td>\n",
       "    </tr>\n",
       "    <tr>\n",
       "      <th>weighted avg</th>\n",
       "      <td>0.893975</td>\n",
       "      <td>0.997793</td>\n",
       "      <td>0.810155</td>\n",
       "      <td>643653.0</td>\n",
       "    </tr>\n",
       "  </tbody>\n",
       "</table>\n",
       "</div>"
      ],
      "text/plain": [
       "              f1-score  precision    recall   support\n",
       "0             0.895072   0.999020  0.810716  642860.0\n",
       "1             0.004594   0.002312  0.355612     793.0\n",
       "macro avg     0.449833   0.500666  0.583164  643653.0\n",
       "micro avg     0.810155   0.810155  0.810155  643653.0\n",
       "weighted avg  0.893975   0.997793  0.810155  643653.0"
      ]
     },
     "execution_count": 47,
     "metadata": {},
     "output_type": "execute_result"
    }
   ],
   "source": [
    "pd.DataFrame(report).transpose()"
   ]
  },
  {
   "cell_type": "code",
   "execution_count": 50,
   "metadata": {},
   "outputs": [
    {
     "data": {
      "image/png": "[encoded data removed]",
      "text/plain": [
       "<Figure size 360x360 with 1 Axes>"
      ]
     },
     "metadata": {
      "needs_background": "light"
     },
     "output_type": "display_data"
    }
   ],
   "source": [
    "plt.figure(figsize=(5,5))\n",
    "plt.plot([0, 1], [0, 1], 'r--')\n",
    "plt.plot(best_model.summary.roc.select('FPR').collect(),\n",
    "         best_model.summary.roc.select('TPR').collect())\n",
    "plt.xlabel('FP')\n",
    "plt.ylabel('TP')\n",
    "plt.savefig('ROC_LG_UNDER_1.pdf')"
   ]
  },
  {
   "cell_type": "markdown",
   "metadata": {},
   "source": [
    "# SVM"
   ]
  },
  {
   "cell_type": "code",
   "execution_count": 51,
   "metadata": {},
   "outputs": [],
   "source": [
    "from pyspark.ml.classification import LinearSVC, LinearSVCModel"
   ]
  },
  {
   "cell_type": "code",
   "execution_count": 52,
   "metadata": {},
   "outputs": [],
   "source": [
    "# Define your classifier\n",
    "lsvc = LinearSVC(maxIter=10, regParam=0.1)"
   ]
  },
  {
   "cell_type": "code",
   "execution_count": 53,
   "metadata": {},
   "outputs": [],
   "source": [
    "lsvcModel = lsvc.fit(train_pca)"
   ]
  },
  {
   "cell_type": "code",
   "execution_count": 54,
   "metadata": {},
   "outputs": [
    {
     "name": "stdout",
     "output_type": "stream",
     "text": [
      "Some coefficients: []\n",
      "Intercept: -0.68077763477\n"
     ]
    }
   ],
   "source": [
    "coefficients = lsvcModel.coefficients\n",
    "intercept = lsvcModel.intercept\n",
    "print(\"Some coefficients: \" + str(coefficients[250:300]))\n",
    "print(\"Intercept: \" + str(intercept))"
   ]
  },
  {
   "cell_type": "code",
   "execution_count": 55,
   "metadata": {},
   "outputs": [],
   "source": [
    "predictions_train_SVM = lsvcModel.transform(train_pca)"
   ]
  },
  {
   "cell_type": "code",
   "execution_count": 56,
   "metadata": {},
   "outputs": [],
   "source": [
    "predictions_test_SVM = lsvcModel.transform(test_pca)"
   ]
  },
  {
   "cell_type": "code",
   "execution_count": 57,
   "metadata": {},
   "outputs": [
    {
     "name": "stdout",
     "output_type": "stream",
     "text": [
      "Test Area Under ROC 0.678912053791\n"
     ]
    }
   ],
   "source": [
    "evaluator = BinaryClassificationEvaluator()\n",
    "print 'Test Area Under ROC ' + str(evaluator.evaluate(predictions_test_SVM))"
   ]
  },
  {
   "cell_type": "code",
   "execution_count": 58,
   "metadata": {},
   "outputs": [
    {
     "name": "stdout",
     "output_type": "stream",
     "text": [
      "Test Area Under ROC 0.675777713269\n"
     ]
    }
   ],
   "source": [
    "evaluator = BinaryClassificationEvaluator()\n",
    "print 'Test Area Under ROC ' + str(evaluator.evaluate(predictions_train_SVM))"
   ]
  },
  {
   "cell_type": "code",
   "execution_count": 59,
   "metadata": {},
   "outputs": [
    {
     "name": "stdout",
     "output_type": "stream",
     "text": [
      "Accuracy 0.975295695041\n"
     ]
    }
   ],
   "source": [
    "print 'Accuracy ' + str(predictions_test_SVM.filter(predictions_test_SVM.label == predictions_test_SVM.prediction).count()/float(predictions_test_SVM.count()))"
   ]
  },
  {
   "cell_type": "code",
   "execution_count": 60,
   "metadata": {},
   "outputs": [],
   "source": [
    "paramGrid = (ParamGridBuilder().addGrid(lsvc.regParam, [10, 1, 0.1, 0.01, 0.001, 0.0001])\n",
    "                                       .addGrid(lr.maxIter, [1,5,10])\n",
    "             .build())"
   ]
  },
  {
   "cell_type": "code",
   "execution_count": 61,
   "metadata": {},
   "outputs": [],
   "source": [
    "from pyspark.ml.tuning import ParamGridBuilder, TrainValidationSplit\n",
    "from pyspark.ml.evaluation import MulticlassClassificationEvaluator\n",
    "cv = TrainValidationSplit(estimator=lsvc, estimatorParamMaps=paramGrid,trainRatio=0.8, \n",
    "                          evaluator=MulticlassClassificationEvaluator(metricName = 'truePositiveRateByLabel'))"
   ]
  },
  {
   "cell_type": "code",
   "execution_count": 62,
   "metadata": {},
   "outputs": [],
   "source": [
    "#cv = CrossValidator(estimator=lsvc, estimatorParamMaps=paramGrid, evaluator=evaluator, numFolds=3)"
   ]
  },
  {
   "cell_type": "code",
   "execution_count": 63,
   "metadata": {},
   "outputs": [],
   "source": [
    "cvModel = cv.fit(train_pca)"
   ]
  },
  {
   "cell_type": "code",
   "execution_count": 64,
   "metadata": {},
   "outputs": [
    {
     "name": "stdout",
     "output_type": "stream",
     "text": [
      "Test Area Under ROC 0.481776654483\n"
     ]
    }
   ],
   "source": [
    "predictions_test_2_SVM = cvModel.transform(test_pca)\n",
    "print 'Test Area Under ROC ' + str(evaluator.evaluate(predictions_test_2_SVM))"
   ]
  },
  {
   "cell_type": "code",
   "execution_count": 65,
   "metadata": {},
   "outputs": [
    {
     "name": "stdout",
     "output_type": "stream",
     "text": [
      "Test Area Under ROC 0.694075736431\n"
     ]
    }
   ],
   "source": [
    "predictions_train_2_SVM = cvModel.transform(train_pca)\n",
    "print 'Test Area Under ROC ' + str(evaluator.evaluate(predictions_train_2_SVM))"
   ]
  },
  {
   "cell_type": "code",
   "execution_count": 66,
   "metadata": {},
   "outputs": [
    {
     "name": "stdout",
     "output_type": "stream",
     "text": [
      "Accuracy 0.932401464764\n"
     ]
    }
   ],
   "source": [
    "print 'Accuracy ' + str(predictions_test_2_SVM.filter(predictions_test_2_SVM.label == predictions_test_2_SVM.prediction).count()/float(predictions_test_2_SVM.count()))"
   ]
  },
  {
   "cell_type": "code",
   "execution_count": 67,
   "metadata": {},
   "outputs": [],
   "source": [
    "best_model_SVM = cvModel.bestModel"
   ]
  },
  {
   "cell_type": "code",
   "execution_count": 68,
   "metadata": {},
   "outputs": [
    {
     "data": {
      "text/plain": [
       "10"
      ]
     },
     "execution_count": 68,
     "metadata": {},
     "output_type": "execute_result"
    }
   ],
   "source": [
    "best_model_SVM._java_obj.getRegParam()\n",
    "best_model_SVM._java_obj.getMaxIter()"
   ]
  },
  {
   "cell_type": "code",
   "execution_count": 74,
   "metadata": {},
   "outputs": [
    {
     "name": "stdout",
     "output_type": "stream",
     "text": [
      "Prediccion     0.0    1.0\n",
      "Actual                   \n",
      "0           600026  42834\n",
      "1              676    117\n"
     ]
    },
    {
     "data": {
      "image/png": "[encoded data removed]",
      "text/plain": [
       "<Figure size 432x288 with 2 Axes>"
      ]
     },
     "metadata": {
      "needs_background": "light"
     },
     "output_type": "display_data"
    }
   ],
   "source": [
    "ccm_svm = predictions_test_2_SVM.select('label', 'prediction').toPandas()\n",
    "confusion_matrix = pd.crosstab(ccm_svm['label'], ccm_svm['prediction'], rownames=['Actual'], colnames=['Prediccion'])\n",
    "print (confusion_matrix)\n",
    "sns.heatmap(confusion_matrix, annot=True, cmap=\"Blues\", fmt='g', cbar_kws={\"orientation\": \"horizontal\"})\n",
    "plt.savefig('images/CM_SVM_UNDER_1.pdf')\n"
   ]
  },
  {
   "cell_type": "code",
   "execution_count": 71,
   "metadata": {},
   "outputs": [],
   "source": [
    "report = classification_report(ccm_svm['label'], ccm_svm['prediction'], output_dict=True)"
   ]
  },
  {
   "cell_type": "code",
   "execution_count": 72,
   "metadata": {
    "scrolled": true
   },
   "outputs": [
    {
     "data": {
      "text/html": [
       "<div>\n",
       "<style scoped>\n",
       "    .dataframe tbody tr th:only-of-type {\n",
       "        vertical-align: middle;\n",
       "    }\n",
       "\n",
       "    .dataframe tbody tr th {\n",
       "        vertical-align: top;\n",
       "    }\n",
       "\n",
       "    .dataframe thead th {\n",
       "        text-align: right;\n",
       "    }\n",
       "</style>\n",
       "<table border=\"1\" class=\"dataframe\">\n",
       "  <thead>\n",
       "    <tr style=\"text-align: right;\">\n",
       "      <th></th>\n",
       "      <th>f1-score</th>\n",
       "      <th>precision</th>\n",
       "      <th>recall</th>\n",
       "      <th>support</th>\n",
       "    </tr>\n",
       "  </thead>\n",
       "  <tbody>\n",
       "    <tr>\n",
       "      <th>0</th>\n",
       "      <td>0.965012</td>\n",
       "      <td>0.998875</td>\n",
       "      <td>0.933370</td>\n",
       "      <td>642860.0</td>\n",
       "    </tr>\n",
       "    <tr>\n",
       "      <th>1</th>\n",
       "      <td>0.005349</td>\n",
       "      <td>0.002724</td>\n",
       "      <td>0.147541</td>\n",
       "      <td>793.0</td>\n",
       "    </tr>\n",
       "    <tr>\n",
       "      <th>macro avg</th>\n",
       "      <td>0.485181</td>\n",
       "      <td>0.500799</td>\n",
       "      <td>0.540455</td>\n",
       "      <td>643653.0</td>\n",
       "    </tr>\n",
       "    <tr>\n",
       "      <th>micro avg</th>\n",
       "      <td>0.932401</td>\n",
       "      <td>0.932401</td>\n",
       "      <td>0.932401</td>\n",
       "      <td>643653.0</td>\n",
       "    </tr>\n",
       "    <tr>\n",
       "      <th>weighted avg</th>\n",
       "      <td>0.963829</td>\n",
       "      <td>0.997647</td>\n",
       "      <td>0.932401</td>\n",
       "      <td>643653.0</td>\n",
       "    </tr>\n",
       "  </tbody>\n",
       "</table>\n",
       "</div>"
      ],
      "text/plain": [
       "              f1-score  precision    recall   support\n",
       "0             0.965012   0.998875  0.933370  642860.0\n",
       "1             0.005349   0.002724  0.147541     793.0\n",
       "macro avg     0.485181   0.500799  0.540455  643653.0\n",
       "micro avg     0.932401   0.932401  0.932401  643653.0\n",
       "weighted avg  0.963829   0.997647  0.932401  643653.0"
      ]
     },
     "execution_count": 72,
     "metadata": {},
     "output_type": "execute_result"
    }
   ],
   "source": [
    "pd.DataFrame(report).transpose()"
   ]
  },
  {
   "cell_type": "code",
   "execution_count": 73,
   "metadata": {},
   "outputs": [
    {
     "ename": "AttributeError",
     "evalue": "'LinearSVCModel' object has no attribute 'summary'",
     "output_type": "error",
     "traceback": [
      "\u001b[0;31m---------------------------------------------------------------------------\u001b[0m",
      "\u001b[0;31mAttributeError\u001b[0m                            Traceback (most recent call last)",
      "\u001b[0;32m<ipython-input-73-0536f9594288>\u001b[0m in \u001b[0;36m<module>\u001b[0;34m()\u001b[0m\n\u001b[1;32m      1\u001b[0m \u001b[0mplt\u001b[0m\u001b[0;34m.\u001b[0m\u001b[0mfigure\u001b[0m\u001b[0;34m(\u001b[0m\u001b[0mfigsize\u001b[0m\u001b[0;34m=\u001b[0m\u001b[0;34m(\u001b[0m\u001b[0;36m5\u001b[0m\u001b[0;34m,\u001b[0m\u001b[0;36m5\u001b[0m\u001b[0;34m)\u001b[0m\u001b[0;34m)\u001b[0m\u001b[0;34m\u001b[0m\u001b[0m\n\u001b[1;32m      2\u001b[0m \u001b[0mplt\u001b[0m\u001b[0;34m.\u001b[0m\u001b[0mplot\u001b[0m\u001b[0;34m(\u001b[0m\u001b[0;34m[\u001b[0m\u001b[0;36m0\u001b[0m\u001b[0;34m,\u001b[0m \u001b[0;36m1\u001b[0m\u001b[0;34m]\u001b[0m\u001b[0;34m,\u001b[0m \u001b[0;34m[\u001b[0m\u001b[0;36m0\u001b[0m\u001b[0;34m,\u001b[0m \u001b[0;36m1\u001b[0m\u001b[0;34m]\u001b[0m\u001b[0;34m,\u001b[0m \u001b[0;34m'r--'\u001b[0m\u001b[0;34m)\u001b[0m\u001b[0;34m\u001b[0m\u001b[0m\n\u001b[0;32m----> 3\u001b[0;31m plt.plot(best_model_SVM.summary.roc.select('FPR').collect(),\n\u001b[0m\u001b[1;32m      4\u001b[0m          best_model_SVM.summary.roc.select('TPR').collect())\n\u001b[1;32m      5\u001b[0m \u001b[0mplt\u001b[0m\u001b[0;34m.\u001b[0m\u001b[0mxlabel\u001b[0m\u001b[0;34m(\u001b[0m\u001b[0;34m'FP'\u001b[0m\u001b[0;34m)\u001b[0m\u001b[0;34m\u001b[0m\u001b[0m\n",
      "\u001b[0;31mAttributeError\u001b[0m: 'LinearSVCModel' object has no attribute 'summary'"
     ]
    },
    {
     "data": {
      "image/png": "[encoded data removed]",
      "text/plain": [
       "<Figure size 360x360 with 1 Axes>"
      ]
     },
     "metadata": {
      "needs_background": "light"
     },
     "output_type": "display_data"
    }
   ],
   "source": [
    "plt.figure(figsize=(5,5))\n",
    "plt.plot([0, 1], [0, 1], 'r--')\n",
    "plt.plot(best_model_SVM.summary.roc.select('FPR').collect(),\n",
    "         best_model_SVM.summary.roc.select('TPR').collect())\n",
    "plt.xlabel('FP')\n",
    "plt.ylabel('TP')\n",
    "#plt.savefig('images/ROC_SVM_UNDER_1.pdf')"
   ]
  },
  {
   "cell_type": "markdown",
   "metadata": {},
   "source": [
    "# RANDOM FOREST"
   ]
  },
  {
   "cell_type": "code",
   "execution_count": 75,
   "metadata": {},
   "outputs": [],
   "source": [
    "from pyspark.ml.classification import RandomForestClassifier"
   ]
  },
  {
   "cell_type": "code",
   "execution_count": 76,
   "metadata": {},
   "outputs": [],
   "source": [
    "rf = RandomForestClassifier(featuresCol = 'features', labelCol = 'label')\n",
    "rfModel = rf.fit(train_pca)"
   ]
  },
  {
   "cell_type": "code",
   "execution_count": 77,
   "metadata": {},
   "outputs": [],
   "source": [
    "predictions_train_RF = rfModel.transform(train_pca)"
   ]
  },
  {
   "cell_type": "code",
   "execution_count": 78,
   "metadata": {},
   "outputs": [],
   "source": [
    "predictions_test_RF = rfModel.transform(test_pca)"
   ]
  },
  {
   "cell_type": "code",
   "execution_count": 79,
   "metadata": {},
   "outputs": [
    {
     "name": "stdout",
     "output_type": "stream",
     "text": [
      "Test Area Under ROC 0.519912814539\n"
     ]
    }
   ],
   "source": [
    "from pyspark.ml.evaluation import BinaryClassificationEvaluator\n",
    "evaluator = BinaryClassificationEvaluator()\n",
    "print 'Test Area Under ROC ' + str(evaluator.evaluate(predictions_test_RF))"
   ]
  },
  {
   "cell_type": "code",
   "execution_count": 80,
   "metadata": {},
   "outputs": [
    {
     "name": "stdout",
     "output_type": "stream",
     "text": [
      "Test Area Under ROC 0.944216152029\n"
     ]
    }
   ],
   "source": [
    "from pyspark.ml.evaluation import BinaryClassificationEvaluator\n",
    "evaluator = BinaryClassificationEvaluator()\n",
    "print 'Test Area Under ROC ' + str(evaluator.evaluate(predictions_train_RF))"
   ]
  },
  {
   "cell_type": "code",
   "execution_count": 81,
   "metadata": {},
   "outputs": [
    {
     "name": "stdout",
     "output_type": "stream",
     "text": [
      "Accuracy 0.429813890404\n"
     ]
    }
   ],
   "source": [
    "print 'Accuracy ' + str(predictions_test_RF.filter(predictions_test_RF.label == predictions_test_RF.prediction).count()/float(predictions_test_RF.count()))"
   ]
  },
  {
   "cell_type": "code",
   "execution_count": 82,
   "metadata": {},
   "outputs": [],
   "source": [
    "from pyspark.ml.tuning import ParamGridBuilder, CrossValidator\n",
    "\n",
    "paramGrid = (ParamGridBuilder().addGrid(rf.maxDepth, [1,2,3,4,5])\n",
    "             .addGrid(rf.minInstancesPerNode, [1,5,10])\n",
    "             .build())"
   ]
  },
  {
   "cell_type": "code",
   "execution_count": 94,
   "metadata": {},
   "outputs": [],
   "source": [
    "from pyspark.ml.tuning import ParamGridBuilder, TrainValidationSplit\n",
    "from pyspark.ml.evaluation import MulticlassClassificationEvaluator\n",
    "cv = TrainValidationSplit(estimator=rf, estimatorParamMaps=paramGrid,trainRatio=0.8, \n",
    "                          evaluator=MulticlassClassificationEvaluator())"
   ]
  },
  {
   "cell_type": "code",
   "execution_count": 95,
   "metadata": {},
   "outputs": [],
   "source": [
    "cvModel = cv.fit(train_pca)"
   ]
  },
  {
   "cell_type": "code",
   "execution_count": 96,
   "metadata": {},
   "outputs": [
    {
     "name": "stdout",
     "output_type": "stream",
     "text": [
      "Test Area Under ROC 0.519912814539\n"
     ]
    }
   ],
   "source": [
    "predictions_test_2 = cvModel.transform(test_pca)\n",
    "print 'Test Area Under ROC ' + str(evaluator.evaluate(predictions_test_2))"
   ]
  },
  {
   "cell_type": "code",
   "execution_count": 97,
   "metadata": {},
   "outputs": [
    {
     "name": "stdout",
     "output_type": "stream",
     "text": [
      "Test Area Under ROC 0.944216152029\n"
     ]
    }
   ],
   "source": [
    "predictions_train_2 = cvModel.transform(train_pca)\n",
    "print 'Test Area Under ROC ' + str(evaluator.evaluate(predictions_train_2))"
   ]
  },
  {
   "cell_type": "code",
   "execution_count": 98,
   "metadata": {},
   "outputs": [],
   "source": [
    "best_model = cvModel.bestModel"
   ]
  },
  {
   "cell_type": "code",
   "execution_count": 99,
   "metadata": {},
   "outputs": [
    {
     "name": "stdout",
     "output_type": "stream",
     "text": [
      "Prediccion     0.0     1.0\n",
      "Actual                    \n",
      "0           276193  366667\n",
      "1              335     458\n"
     ]
    },
    {
     "data": {
      "image/png": "[encoded data removed]",
      "text/plain": [
       "<Figure size 432x288 with 2 Axes>"
      ]
     },
     "metadata": {
      "needs_background": "light"
     },
     "output_type": "display_data"
    }
   ],
   "source": [
    "ccm_lg = predictions_test_2.select('label', 'prediction').toPandas()\n",
    "confusion_matrix = pd.crosstab(ccm_lg['label'], ccm_lg['prediction'], rownames=['Actual'], colnames=['Prediccion'])\n",
    "print (confusion_matrix)\n",
    "sns.heatmap(confusion_matrix, annot=True, cmap=\"Blues\", fmt='g', cbar_kws={\"orientation\": \"horizontal\"})\n",
    "plt.savefig('CM_RF_UNDER.pdf')\n"
   ]
  },
  {
   "cell_type": "code",
   "execution_count": 100,
   "metadata": {},
   "outputs": [],
   "source": [
    "from sklearn.metrics import classification_report\n",
    "report = classification_report(ccm_lg['label'], ccm_lg['prediction'], output_dict=True)"
   ]
  },
  {
   "cell_type": "code",
   "execution_count": 101,
   "metadata": {},
   "outputs": [
    {
     "data": {
      "text/html": [
       "<div>\n",
       "<style scoped>\n",
       "    .dataframe tbody tr th:only-of-type {\n",
       "        vertical-align: middle;\n",
       "    }\n",
       "\n",
       "    .dataframe tbody tr th {\n",
       "        vertical-align: top;\n",
       "    }\n",
       "\n",
       "    .dataframe thead th {\n",
       "        text-align: right;\n",
       "    }\n",
       "</style>\n",
       "<table border=\"1\" class=\"dataframe\">\n",
       "  <thead>\n",
       "    <tr style=\"text-align: right;\">\n",
       "      <th></th>\n",
       "      <th>f1-score</th>\n",
       "      <th>precision</th>\n",
       "      <th>recall</th>\n",
       "      <th>support</th>\n",
       "    </tr>\n",
       "  </thead>\n",
       "  <tbody>\n",
       "    <tr>\n",
       "      <th>0</th>\n",
       "      <td>0.600819</td>\n",
       "      <td>0.998789</td>\n",
       "      <td>0.429632</td>\n",
       "      <td>642860.0</td>\n",
       "    </tr>\n",
       "    <tr>\n",
       "      <th>1</th>\n",
       "      <td>0.002490</td>\n",
       "      <td>0.001248</td>\n",
       "      <td>0.577554</td>\n",
       "      <td>793.0</td>\n",
       "    </tr>\n",
       "    <tr>\n",
       "      <th>macro avg</th>\n",
       "      <td>0.301654</td>\n",
       "      <td>0.500018</td>\n",
       "      <td>0.503593</td>\n",
       "      <td>643653.0</td>\n",
       "    </tr>\n",
       "    <tr>\n",
       "      <th>micro avg</th>\n",
       "      <td>0.429814</td>\n",
       "      <td>0.429814</td>\n",
       "      <td>0.429814</td>\n",
       "      <td>643653.0</td>\n",
       "    </tr>\n",
       "    <tr>\n",
       "      <th>weighted avg</th>\n",
       "      <td>0.600082</td>\n",
       "      <td>0.997560</td>\n",
       "      <td>0.429814</td>\n",
       "      <td>643653.0</td>\n",
       "    </tr>\n",
       "  </tbody>\n",
       "</table>\n",
       "</div>"
      ],
      "text/plain": [
       "              f1-score  precision    recall   support\n",
       "0             0.600819   0.998789  0.429632  642860.0\n",
       "1             0.002490   0.001248  0.577554     793.0\n",
       "macro avg     0.301654   0.500018  0.503593  643653.0\n",
       "micro avg     0.429814   0.429814  0.429814  643653.0\n",
       "weighted avg  0.600082   0.997560  0.429814  643653.0"
      ]
     },
     "execution_count": 101,
     "metadata": {},
     "output_type": "execute_result"
    }
   ],
   "source": [
    "pd.DataFrame(report).transpose()"
   ]
  },
  {
   "cell_type": "code",
   "execution_count": 102,
   "metadata": {},
   "outputs": [
    {
     "ename": "AttributeError",
     "evalue": "'RandomForestClassificationModel' object has no attribute 'summary'",
     "output_type": "error",
     "traceback": [
      "\u001b[0;31m---------------------------------------------------------------------------\u001b[0m",
      "\u001b[0;31mAttributeError\u001b[0m                            Traceback (most recent call last)",
      "\u001b[0;32m<ipython-input-102-f60893834b5f>\u001b[0m in \u001b[0;36m<module>\u001b[0;34m()\u001b[0m\n\u001b[1;32m      1\u001b[0m \u001b[0mplt\u001b[0m\u001b[0;34m.\u001b[0m\u001b[0mfigure\u001b[0m\u001b[0;34m(\u001b[0m\u001b[0mfigsize\u001b[0m\u001b[0;34m=\u001b[0m\u001b[0;34m(\u001b[0m\u001b[0;36m5\u001b[0m\u001b[0;34m,\u001b[0m\u001b[0;36m5\u001b[0m\u001b[0;34m)\u001b[0m\u001b[0;34m)\u001b[0m\u001b[0;34m\u001b[0m\u001b[0m\n\u001b[1;32m      2\u001b[0m \u001b[0mplt\u001b[0m\u001b[0;34m.\u001b[0m\u001b[0mplot\u001b[0m\u001b[0;34m(\u001b[0m\u001b[0;34m[\u001b[0m\u001b[0;36m0\u001b[0m\u001b[0;34m,\u001b[0m \u001b[0;36m1\u001b[0m\u001b[0;34m]\u001b[0m\u001b[0;34m,\u001b[0m \u001b[0;34m[\u001b[0m\u001b[0;36m0\u001b[0m\u001b[0;34m,\u001b[0m \u001b[0;36m1\u001b[0m\u001b[0;34m]\u001b[0m\u001b[0;34m,\u001b[0m \u001b[0;34m'r--'\u001b[0m\u001b[0;34m)\u001b[0m\u001b[0;34m\u001b[0m\u001b[0m\n\u001b[0;32m----> 3\u001b[0;31m plt.plot(best_model.summary.roc.select('FPR').collect(),\n\u001b[0m\u001b[1;32m      4\u001b[0m          best_model.summary.roc.select('TPR').collect())\n\u001b[1;32m      5\u001b[0m \u001b[0mplt\u001b[0m\u001b[0;34m.\u001b[0m\u001b[0mxlabel\u001b[0m\u001b[0;34m(\u001b[0m\u001b[0;34m'FP'\u001b[0m\u001b[0;34m)\u001b[0m\u001b[0;34m\u001b[0m\u001b[0m\n",
      "\u001b[0;31mAttributeError\u001b[0m: 'RandomForestClassificationModel' object has no attribute 'summary'"
     ]
    },
    {
     "data": {
      "image/png": "[encoded data removed]",
      "text/plain": [
       "<Figure size 360x360 with 1 Axes>"
      ]
     },
     "metadata": {
      "needs_background": "light"
     },
     "output_type": "display_data"
    }
   ],
   "source": [
    "plt.figure(figsize=(5,5))\n",
    "plt.plot([0, 1], [0, 1], 'r--')\n",
    "plt.plot(best_model.summary.roc.select('FPR').collect(),\n",
    "         best_model.summary.roc.select('TPR').collect())\n",
    "plt.xlabel('FP')\n",
    "plt.ylabel('TP')\n",
    "plt.savefig('ROC_RF_UNDER.pdf')"
   ]
  }
 ],
 "metadata": {
  "kernelspec": {
   "display_name": "Python 2",
   "language": "python",
   "name": "python2"
  },
  "language_info": {
   "codemirror_mode": {
    "name": "ipython",
    "version": 2
   },
   "file_extension": ".py",
   "mimetype": "text/x-python",
   "name": "python",
   "nbconvert_exporter": "python",
   "pygments_lexer": "ipython2",
   "version": "2.7.15"
  }
 },
 "nbformat": 4,
 "nbformat_minor": 2
}
